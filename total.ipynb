{
 "cells": [
  {
   "cell_type": "code",
   "execution_count": 1,
   "metadata": {},
   "outputs": [],
   "source": [
    "str = \"臺灣銀行,臺灣土地銀行,合作金庫銀行,第一商業銀行,華南商業銀行,彰化商業銀行,上海商業儲蓄銀行,台北富邦商業銀行,國泰世華商業銀行,中國輸出入銀行,高雄銀行,兆豐國際商業銀行,花旗(台灣)商業銀行,王道商業銀行,臺灣中小企業銀行,渣打國際商業銀行,台中商業銀行,京城商業銀行,匯豐(台灣)商業銀行,瑞興商業銀行,華泰商業銀行,臺灣新光商業銀行,陽信商業銀行,板信商業銀行,三信商業銀行,聯邦商業銀行,遠東國際商業銀行,元大商業銀行,永豐商業銀行,玉山商業銀行,凱基商業銀行,星展(台灣)商業銀行,台新國際商業銀行,日盛國際商業銀行,安泰商業銀行,中國信託商業銀行,將來商業銀行,連線商業銀行,樂天國際商業銀行,中央信託局,中國農民銀行,交通銀行,澳盛(台灣)商業銀行,中華開發工業銀行,第七商業銀行,中華商業銀行,大眾商業銀行,慶豐商業銀行,臺北國際商業銀行,高雄區中小企業銀行,花蓮區中小企業銀行,臺東區中小企業銀行\""
   ]
  },
  {
   "cell_type": "code",
   "execution_count": 2,
   "metadata": {},
   "outputs": [
    {
     "name": "stdout",
     "output_type": "stream",
     "text": [
      "臺灣銀行','臺灣土地銀行','合作金庫銀行','第一商業銀行','華南商業銀行','彰化商業銀行','上海商業儲蓄銀行','台北富邦商業銀行','國泰世華商業銀行','中國輸出入銀行','高雄銀行','兆豐國際商業銀行','花旗(台灣)商業銀行','王道商業銀行','臺灣中小企業銀行','渣打國際商業銀行','台中商業銀行','京城商業銀行','匯豐(台灣)商業銀行','瑞興商業銀行','華泰商業銀行','臺灣新光商業銀行','陽信商業銀行','板信商業銀行','三信商業銀行','聯邦商業銀行','遠東國際商業銀行','元大商業銀行','永豐商業銀行','玉山商業銀行','凱基商業銀行','星展(台灣)商業銀行','台新國際商業銀行','日盛國際商業銀行','安泰商業銀行','中國信託商業銀行','將來商業銀行','連線商業銀行','樂天國際商業銀行','中央信託局','中國農民銀行','交通銀行','澳盛(台灣)商業銀行','中華開發工業銀行','第七商業銀行','中華商業銀行','大眾商業銀行','慶豐商業銀行','臺北國際商業銀行','高雄區中小企業銀行','花蓮區中小企業銀行','臺東區中小企業銀行\n"
     ]
    }
   ],
   "source": [
    "str = str.replace(\",\",\"','\")\n",
    "print(str)"
   ]
  },
  {
   "cell_type": "code",
   "execution_count": 3,
   "metadata": {},
   "outputs": [
    {
     "ename": "TypeError",
     "evalue": "listdir: path should be string, bytes, os.PathLike or None, not builtin_function_or_method",
     "output_type": "error",
     "traceback": [
      "\u001b[1;31m---------------------------------------------------------------------------\u001b[0m",
      "\u001b[1;31mTypeError\u001b[0m                                 Traceback (most recent call last)",
      "Cell \u001b[1;32mIn[3], line 8\u001b[0m\n\u001b[0;32m      5\u001b[0m \u001b[39mimport\u001b[39;00m \u001b[39msubprocess\u001b[39;00m\n\u001b[0;32m      6\u001b[0m \u001b[39mimport\u001b[39;00m \u001b[39mmatplotlib\u001b[39;00m\u001b[39m.\u001b[39;00m\u001b[39mpyplot\u001b[39;00m \u001b[39mas\u001b[39;00m \u001b[39mplt\u001b[39;00m\n\u001b[1;32m----> 8\u001b[0m dir_list \u001b[39m=\u001b[39m os\u001b[39m.\u001b[39;49mlistdir(\u001b[39mdir\u001b[39;49m)\n\u001b[0;32m      9\u001b[0m plt\u001b[39m.\u001b[39mrcParams[\u001b[39m'\u001b[39m\u001b[39mfont.sans-serif\u001b[39m\u001b[39m'\u001b[39m] \u001b[39m=\u001b[39m [\u001b[39m'\u001b[39m\u001b[39mTaipei Sans TC Beta\u001b[39m\u001b[39m'\u001b[39m]\n\u001b[0;32m     10\u001b[0m \u001b[39mdir\u001b[39m \u001b[39m=\u001b[39m \u001b[39m\"\u001b[39m\u001b[39m.//csv\u001b[39m\u001b[39m\"\u001b[39m\n",
      "\u001b[1;31mTypeError\u001b[0m: listdir: path should be string, bytes, os.PathLike or None, not builtin_function_or_method"
     ]
    }
   ],
   "source": [
    "import csv\n",
    "import pandas as pd\n",
    "from datetime import datetime\n",
    "import os\n",
    "import subprocess\n",
    "import matplotlib.pyplot as plt\n",
    "\n",
    "dir = \".//csv\"\n",
    "dir_list = os.listdir(dir)\n",
    "plt.rcParams['font.sans-serif'] = ['Taipei Sans TC Beta']\n",
    "\n",
    "for i in dir_list[0]:\n",
    "    print(i)\n",
    "    csv_name, extension = os.path.splitext(i)\n",
    "    df = pd.read_csv(dir +\"//\" +i, encoding=\"utf-8\")\n",
    "    df['total'] = df[['臺灣銀行','臺灣土地銀行','合作金庫銀行','第一商業銀行','華南商業銀行','彰化商業銀行','上海商業儲蓄銀行','台北富邦商業銀行','國泰世華商業銀行','中國輸出入銀行','高雄銀行','兆豐國際商業銀行','花旗(台灣)商業銀行','王道商業銀行','臺灣中小企業銀行','渣打國際商業銀行','台中商業銀行','京城商業銀行','匯豐(台灣)商業銀行','瑞興商業銀行','華泰商業銀行','臺灣新光商業銀行','陽信商業銀行','板信商業銀行','三信商業銀行','聯邦商業銀行','遠東國際商業銀行','元大商業銀行','永豐商業銀行','玉山商業銀行','凱基商業銀行','星展(台灣)商業銀行','台新國際商業銀行','日盛國際商業銀行','安泰商業銀行','中國信託商業銀行','將來商業銀行','連線商業銀行','樂天國際商業銀行','中央信託局','中國農民銀行','交通銀行','澳盛(台灣)商業銀行','中華開發工業銀行','第七商業銀行','中華商業銀行','大眾商業銀行','慶豐商業銀行','臺北國際商業銀行','高雄區中小企業銀行','花蓮區中小企業銀行','臺東區中小企業銀行']].sum(axis=1)\n",
    "    # df.to_csv(i+\".csv\", encoding= \"utf-8\"\")\n",
    "    df.to_csv(i + 'test.csv', index=False, encoding= \"utf-8\")\n",
    "\n",
    "    "
   ]
  },
  {
   "attachments": {},
   "cell_type": "markdown",
   "metadata": {},
   "source": [
    "臺灣銀行,臺灣土地銀行,合作金庫銀行,第一商業銀行,華南商業銀行,彰化商業銀行,上海商業儲蓄銀行,台北富邦商業銀行,國泰世華商業銀行,中國輸出入銀行,高雄銀行,兆豐國際商業銀行,花旗(台灣)商業銀行,王道商業銀行,臺灣中小企業銀行,渣打國際商業銀行,台中商業銀行,京城商業銀行,匯豐(台灣)商業銀行,瑞興商業銀行,華泰商業銀行,臺灣新光商業銀行,陽信商業銀行,板信商業銀行,三信商業銀行,聯邦商業銀行,遠東國際商業銀行,元大商業銀行,永豐商業銀行,玉山商業銀行,凱基商業銀行,星展(台灣)商業銀行,台新國際商業銀行,日盛國際商業銀行,安泰商業銀行,中國信託商業銀行,將來商業銀行,連線商業銀行,樂天國際商業銀行,中央信託局,中國農民銀行,交通銀行,澳盛(台灣)商業銀行,中華開發工業銀行,第七商業銀行,中華商業銀行,大眾商業銀行,慶豐商業銀行,臺北國際商業銀行,高雄區中小企業銀行,花蓮區中小企業銀行,臺東區中小企業銀行"
   ]
  }
 ],
 "metadata": {
  "kernelspec": {
   "display_name": "Python 3",
   "language": "python",
   "name": "python3"
  },
  "language_info": {
   "codemirror_mode": {
    "name": "ipython",
    "version": 3
   },
   "file_extension": ".py",
   "mimetype": "text/x-python",
   "name": "python",
   "nbconvert_exporter": "python",
   "pygments_lexer": "ipython3",
   "version": "3.11.2"
  },
  "orig_nbformat": 4
 },
 "nbformat": 4,
 "nbformat_minor": 2
}
