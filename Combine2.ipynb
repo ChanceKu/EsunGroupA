{
 "cells": [
  {
   "cell_type": "code",
   "execution_count": 71,
   "metadata": {},
   "outputs": [],
   "source": [
    "import time\n",
    "import os\n",
    "import pandas as pd\n",
    "import numpy as np\n",
    "from selenium import webdriver\n",
    "from selenium.common.exceptions import TimeoutException\n",
    "from selenium.webdriver.common.by import By\n",
    "from selenium.webdriver.support import expected_conditions as EC\n",
    "from selenium.webdriver.support.ui import WebDriverWait\n",
    "from selenium.webdriver.common.keys import Keys\n",
    "from selenium.webdriver.support.select import Select\n",
    "from selenium.webdriver.chrome.options import Options"
   ]
  },
  {
   "attachments": {},
   "cell_type": "markdown",
   "metadata": {},
   "source": [
    "#### 設定瀏覽器"
   ]
  },
  {
   "attachments": {},
   "cell_type": "markdown",
   "metadata": {},
   "source": [
    "打開瀏覽器進入銀行局網頁"
   ]
  },
  {
   "cell_type": "code",
   "execution_count": 72,
   "metadata": {},
   "outputs": [
    {
     "name": "stderr",
     "output_type": "stream",
     "text": [
      "C:\\Users\\Chance\\AppData\\Local\\Temp\\ipykernel_78048\\401536149.py:2: DeprecationWarning: executable_path has been deprecated, please pass in a Service object\n",
      "  driver = webdriver.Chrome(executable_path)\n",
      "C:\\Users\\Chance\\AppData\\Local\\Temp\\ipykernel_78048\\401536149.py:3: DeprecationWarning: executable_path has been deprecated, please pass in a Service object\n",
      "  driver2 = webdriver.Chrome(executable_path)\n"
     ]
    }
   ],
   "source": [
    "executable_path = r'chromedriver.exe' \n",
    "driver = webdriver.Chrome(executable_path)\n",
    "driver2 = webdriver.Chrome(executable_path)\n",
    "\n",
    "# option = Options()\n",
    "# option.add_argument(\"--disable-notifications\")\n",
    "# option.add_argument(\"--disable-popup-blocking\")\n",
    "# option.add_argument('--headless=new') # 打開背景模式\n",
    "# driver = webdriver.Chrome(executable_path, options=option)\n",
    "# driver2 = webdriver.Chrome(executable_path, options=option)\n",
    "\n",
    "\n",
    "# 銀行局跨類別查詢\n",
    "target_url = 'https://survey.banking.gov.tw/statis/webMain.aspx?sys=100&funid=defqry2'\n",
    "driver.get(target_url)\n",
    "driver.switch_to.frame('qry12')\n",
    "# 銀行局自選統計項查詢\n",
    "target_url2 = 'https://survey.banking.gov.tw/statis/webMain.aspx?sys=100&funid=defqry'\n",
    "driver2.get(target_url2)\n",
    "driver2.switch_to.frame('qry11')\n",
    "driver2.find_element(By.XPATH, '//*[@id=\"c31\"]/td/a').click()\n",
    "driver2.find_element(By.XPATH, '//*[@id=\"c32\"]/td/a').click()\n",
    "driver2.switch_to.default_content()\n",
    "driver2.switch_to.frame('qry12')"
   ]
  },
  {
   "attachments": {},
   "cell_type": "markdown",
   "metadata": {},
   "source": [
    "#### 設定時間年月範圍"
   ]
  },
  {
   "cell_type": "code",
   "execution_count": 73,
   "metadata": {},
   "outputs": [],
   "source": [
    "input_year = str(int(input(\"Year: \")) - 1911)\n",
    "input_month = str(input(\"Month: \"))\n",
    "\n",
    "previous_month = str(int(input_month) - 1)\n",
    "previous_year = str(int(input_year) - 1)\n",
    "\n",
    "last_month = str(12)"
   ]
  },
  {
   "attachments": {},
   "cell_type": "markdown",
   "metadata": {},
   "source": [
    "網頁一（跨類別查詢）"
   ]
  },
  {
   "cell_type": "code",
   "execution_count": 74,
   "metadata": {},
   "outputs": [],
   "source": [
    "# Start\n",
    "driver.find_element(By.XPATH, f'//*[@id=\"yyf\"]//option[text()=\"{previous_year}\"]').click()\n",
    "driver.find_element(By.XPATH, f'//*[@id=\"mmf\"]//option[text()=\"{input_month}\"]').click()\n",
    "\n",
    "# End\n",
    "driver.find_element(By.XPATH, f'//*[@id=\"yyt\"]//option[text()=\"{input_year}\"]').click()\n",
    "driver.find_element(By.XPATH, f'//*[@id=\"mmt\"]//option[text()=\"{input_month}\"]').click()\n",
    "\n",
    "# 年月別\n",
    "driver.find_element(By.XPATH, '//*[@id=\"cycle\"]/option[1]').click()\n",
    "\n",
    "# 輸出格式\n",
    "driver.find_element(By.XPATH, '//*[@id=\"outkind\"]/option[10]').click()\n"
   ]
  },
  {
   "attachments": {},
   "cell_type": "markdown",
   "metadata": {},
   "source": [
    "網頁二（自選統計項查詢）"
   ]
  },
  {
   "cell_type": "code",
   "execution_count": 75,
   "metadata": {},
   "outputs": [],
   "source": [
    "# Start\n",
    "driver2.find_element(By.XPATH, f'//*[@id=\"yyf\"]//option[text()=\"{previous_year}\"]').click()\n",
    "driver2.find_element(By.XPATH, f'//*[@id=\"mmf\"]//option[text()=\"{input_month}\"]').click()\n",
    "\n",
    "# End\n",
    "driver2.find_element(By.XPATH, f'//*[@id=\"yyt\"]//option[text()=\"{input_year}\"]').click()\n",
    "driver2.find_element(By.XPATH, f'//*[@id=\"mmt\"]//option[text()=\"{input_month}\"]').click()\n",
    "\n",
    "# 年月別\n",
    "driver2.find_element(By.XPATH, '//*[@id=\"cycle\"]/option[1]').click()\n",
    "\n",
    "# 輸出格式\n",
    "driver2.find_element(By.XPATH, '//*[@id=\"outkind\"]/option[5]').click()"
   ]
  },
  {
   "attachments": {},
   "cell_type": "markdown",
   "metadata": {},
   "source": [
    "#### 點選各網頁需要的資料"
   ]
  },
  {
   "cell_type": "code",
   "execution_count": 76,
   "metadata": {},
   "outputs": [],
   "source": [
    "# 跨類別查詢\n",
    "options_xpath = [#1-5\n",
    "                 '//*[@id=\"226217010:0/1/0/$code1$/0/\"]', #月底餘額(不含郵匯轉存款)\n",
    "                 '//*[@id=\"folder4\"]/tbody/tr/td[1]/a', #打開月底餘額(不含郵匯轉存款)細項\n",
    "                 '//*[@id=\"226217010:3/1/0/$code1$/0/\"]', #活期性存款\n",
    "                 '//*[@id=\"226217010:1/1/0/$code1$/0/\"]', #外匯存款\n",
    "                 #6-10\n",
    "                 '/html/body/form/table[3]/tbody/tr/td[1]/table[26]/tbody/tr/td[2]/input', #月底餘額(不含催收款)\n",
    "                 '/html/body/form/table[3]/tbody/tr/td[1]/table[35]/tbody/tr/td[1]/a/img', #打開月底餘額(不含郵匯轉存款)下細項\n",
    "                 '/html/body/form/table[3]/tbody/tr/td[1]/table[42]/tbody/tr/td[2]/input', #消費者貸款餘額-金額\n",
    "                 '/html/body/form/table[3]/tbody/tr/td[1]/table[42]/tbody/tr/td[1]/a/img', #打開金額\n",
    "                 '/html/body/form/table[3]/tbody/tr/td[1]/table[43]/tbody/tr/td[2]/input', #購置住宅貸款\n",
    "                 '/html/body/form/table[3]/tbody/tr/td[1]/table[47]/tbody/tr/td[2]/input', #其他個人消費貸款(不含信用卡循環信用)\n",
    "                 '/html/body/form/table[3]/tbody/tr/td[1]/table[48]/tbody/tr/td[2]/input', #授信總額\n",
    "                 #11-15\n",
    "                 '/html/body/form/table[3]/tbody/tr/td[1]/table[31]/tbody/tr/td[1]/a/img',\n",
    "                 '/html/body/form/table[3]/tbody/tr/td[1]/table[33]/tbody/tr/td[2]/input', #民營企業放款餘額\n",
    "                 '/html/body/form/table[3]/tbody/tr/td[1]/table[34]/tbody/tr/td[2]/input', #中小企業放款餘額\n",
    "                 '/html/body/form/table[3]/tbody/tr/td[1]/table[79]/tbody/tr/td[2]/input', #流通金融卡數\n",
    "                 '/html/body/form/table[3]/tbody/tr/td[1]/table[80]/tbody/tr/td[2]/input', #ATM裝設臺數\n",
    "                 '/html/body/form/table[3]/tbody/tr/td[1]/table[81]/tbody/tr/td[2]/input', #金融卡交易次數\n",
    "                 #16-20\n",
    "                 #\"/html/body/form/table[3]/tbody/tr/td[1]/table[86]/tbody/tr/td[2]/a/font/label\",   #稅前損益\n",
    "                 \"/html/body/form/table[3]/tbody/tr/td[1]/table[86]/tbody/tr/td[1]/a/img\",   #稅前損益細項\n",
    "                 #\"/html/body/form/table[3]/tbody/tr/td[1]/table[87]/tbody/tr/td[2]/a/font/label\",   #收益\n",
    "                 \"/html/body/form/table[3]/tbody/tr/td[1]/table[87]/tbody/tr/td[1]/a/img\",   #收益細項\n",
    "                 \"/html/body/form/table[3]/tbody/tr/td[1]/table[88]/tbody/tr/td[2]/font/label\",   #利息收入\n",
    "                 \"/html/body/form/table[3]/tbody/tr/td[1]/table[89]/tbody/tr/td[2]/font/label\",   #手續費收入\n",
    "                 \"/html/body/form/table[3]/tbody/tr/td[1]/table[90]/tbody/tr/td[2]/font/label\",   #FVPL利益\n",
    "                 \"/html/body/form/table[3]/tbody/tr/td[1]/table[92]/tbody/tr/td[1]/a/img\", #點開費損（累計數）\n",
    "                 \"/html/body/form/table[3]/tbody/tr/td[1]/table[95]/tbody/tr/td[2]/input\", #FVPL損失\n",
    "                 \"/html/body/form/table[3]/tbody/tr/td[1]/table[91]/tbody/tr/td[2]/font/label\",   #其他收益\n",
    "                 \"/html/body/form/table[3]/tbody/tr/td[1]/table[87]/tbody/tr/td[2]/input\", #總營業收入\n",
    "                 #26-30\n",
    "]\n",
    "\n",
    "for i in options_xpath:\n",
    "    driver.find_element(By.XPATH, i).click()\n",
    "\n",
    "# 從網頁取得銀行列表: local_list = ['本國銀行', '＊金控子銀行', '＊非金控子銀行', '◎公股銀行', '◎非公股銀行', '004 臺灣銀行', ...]\n",
    "local_list = driver.find_element(By.XPATH, '//*[@id=\"sublist\"]').text\n",
    "local_list = local_list.split(\"\\n\")\n",
    "local_list.remove(\"810 寶華商業銀行\")\n",
    "\n",
    "# 建立銀行號碼對應銀行名稱的dict: local_dict = {'004': '臺灣銀行', '005': '臺灣土地銀行', ...}\n",
    "local_dict = {}\n",
    "for i in local_list[5:]:\n",
    "    local_dict[i[:3]] = i[4:]"
   ]
  },
  {
   "cell_type": "code",
   "execution_count": 77,
   "metadata": {},
   "outputs": [
    {
     "name": "stdout",
     "output_type": "stream",
     "text": [
      "['本國銀行', '＊金控子銀行', '＊非金控子銀行', '◎公股銀行', '◎非公股銀行', '004 臺灣銀行', '005 臺灣土地銀行', '006 合作金庫銀行', '007 第一商業銀行', '008 華南商業銀行', '009 彰化商業銀行', '011 上海商業儲蓄銀行', '012 台北富邦商業銀行', '013 國泰世華商業銀行', '015 中國輸出入銀行', '016 高雄銀行', '017 兆豐國際商業銀行', '021 花旗(台灣)商業銀行', '048 王道商業銀行', '050 臺灣中小企業銀行', '052 渣打國際商業銀行', '053 台中商業銀行', '054 京城商業銀行', '081 匯豐(台灣)商業銀行', '101 瑞興商業銀行', '102 華泰商業銀行', '103 臺灣新光商業銀行', '108 陽信商業銀行', '118 板信商業銀行', '147 三信商業銀行', '803 聯邦商業銀行', '805 遠東國際商業銀行', '806 元大商業銀行', '807 永豐商業銀行', '808 玉山商業銀行', '809 凱基商業銀行', '810 星展(台灣)商業銀行', '812 台新國際商業銀行', '815 日盛國際商業銀行', '816 安泰商業銀行', '822 中國信託商業銀行', '823 將來商業銀行', '824 連線商業銀行', '826 樂天國際商業銀行', '001 中央信託局', '002 中國農民銀行', '003 交通銀行', '327 澳盛(台灣)商業銀行', '040 中華開發工業銀行', '151 第七商業銀行', '804 中華商業銀行', '814 大眾商業銀行', '825 慶豐商業銀行', '051 臺北國際商業銀行', '055 高雄區中小企業銀行', '056 花蓮區中小企業銀行', '057 臺東區中小企業銀行']\n",
      "{'004': '臺灣銀行', '005': '臺灣土地銀行', '006': '合作金庫銀行', '007': '第一商業銀行', '008': '華南商業銀行', '009': '彰化商業銀行', '011': '上海商業儲蓄銀行', '012': '台北富邦商業銀行', '013': '國泰世華商業銀行', '015': '中國輸出入銀行', '016': '高雄銀行', '017': '兆豐國際商業銀行', '021': '花旗(台灣)商業銀行', '048': '王道商業銀行', '050': '臺灣中小企業銀行', '052': '渣打國際商業銀行', '053': '台中商業銀行', '054': '京城商業銀行', '081': '匯豐(台灣)商業銀行', '101': '瑞興商業銀行', '102': '華泰商業銀行', '103': '臺灣新光商業銀行', '108': '陽信商業銀行', '118': '板信商業銀行', '147': '三信商業銀行', '803': '聯邦商業銀行', '805': '遠東國際商業銀行', '806': '元大商業銀行', '807': '永豐商業銀行', '808': '玉山商業銀行', '809': '凱基商業銀行', '810': '星展(台灣)商業銀行', '812': '台新國際商業銀行', '815': '日盛國際商業銀行', '816': '安泰商業銀行', '822': '中國信託商業銀行', '823': '將來商業銀行', '824': '連線商業銀行', '826': '樂天國際商業銀行', '001': '中央信託局', '002': '中國農民銀行', '003': '交通銀行', '327': '澳盛(台灣)商業銀行', '040': '中華開發工業銀行', '151': '第七商業銀行', '804': '中華商業銀行', '814': '大眾商業銀行', '825': '慶豐商業銀行', '051': '臺北國際商業銀行', '055': '高雄區中小企業銀行', '056': '花蓮區中小企業銀行', '057': '臺東區中小企業銀行'}\n"
     ]
    }
   ],
   "source": [
    "#checking the list and dict\n",
    "print(local_list)\n",
    "print(local_dict)"
   ]
  },
  {
   "cell_type": "code",
   "execution_count": 78,
   "metadata": {},
   "outputs": [],
   "source": [
    "# 自選統計查詢\n",
    "options_xpath2 = [#21-25\n",
    "                  '//*[@id=\"226217490:$code1$/5/0/$cod21$/0/\"]',\n",
    "                  '//*[@id=\"226217490:$code1$/2/0/$cod21$/0/\"]',\n",
    "                  '//*[@id=\"226217490:$code1$/1/0/$cod21$/0/\"]',\n",
    "                  '//*[@id=\"310311000:3\"]',\n",
    "                  '//*[@id=\"310311000:4\"]',\n",
    "                  '//*[@id=\"320011000:20000\"]',\n",
    "]\n",
    "\n",
    "for i in options_xpath2:\n",
    "    driver2.find_element(By.XPATH, i).click()"
   ]
  },
  {
   "attachments": {},
   "cell_type": "markdown",
   "metadata": {},
   "source": [
    "#### 抓資料"
   ]
  },
  {
   "cell_type": "code",
   "execution_count": 79,
   "metadata": {},
   "outputs": [],
   "source": [
    "df = {}     #df is not a dataframe, it is a dict for data\n",
    "for i in range(6, len(local_list)+1):\n",
    "    #選擇第一個銀行\n",
    "    if i == 6:\n",
    "        driver.find_element(By.XPATH, f'//*[@id=\"sublist\"]/option[{i}]').click() #選擇銀行\n",
    "        driver2.find_element(By.XPATH, f'//label[text()=\"{local_list[i-1]}\"]').click() #選擇銀行\n",
    "\n",
    "    #清除上一個銀行的選項並選擇下一間銀行\n",
    "    else:\n",
    "        chwd = driver.window_handles\n",
    "        driver.switch_to.window(chwd[0])\n",
    "        driver.switch_to.frame('qry12')\n",
    "        driver.find_element(By.XPATH, '/html/body/form/table[3]/tbody/tr/td[5]/div/a').click() #全清\n",
    "        driver.find_element(By.XPATH, f'//*[@id=\"sublist\"]/option[{i}]').click() #選擇銀行\n",
    "\n",
    "        chwd2 = driver2.window_handles\n",
    "        driver2.switch_to.window(chwd2[0])\n",
    "        driver2.switch_to.frame('qry12')\n",
    "        driver2.find_element(By.XPATH, f'//label[text()=\"{local_list[i-2]}\"]').click() #清除上一個選項\n",
    "        driver2.find_element(By.XPATH, f'//label[text()=\"{local_list[i-1]}\"]').click() #選擇銀行\n",
    "\n",
    "    driver.find_element(By.XPATH, '//*[@id=\"center\"]').click() #查詢\n",
    "    driver2.find_element(By.XPATH, '//*[@id=\"center\"]').click() #查詢\n",
    "\n",
    "    # switch tab\n",
    "    chwd = driver.window_handles\n",
    "    driver.switch_to.window(chwd[1])\n",
    "    chwd2 = driver2.window_handles\n",
    "    driver2.switch_to.window(chwd2[1])\n",
    "\n",
    "    # 在df中新增key-value pair: '銀行代碼'-空list\n",
    "    df[local_list[i-1][:3]] = []\n",
    "    index_len = driver.find_elements(By.XPATH, '/html/body/form/table[2]/tbody//tr')\n",
    "    index_len2 = driver2.find_elements(By.XPATH, '/html/body/form/table[2]/tbody/tr')\n",
    "\n",
    "    # 抓資料並放進對應的list\n",
    "    for j in range(2, len(index_len)+1):\n",
    "        df[local_list[i-1][:3]].append(driver.find_element(By.XPATH, f'/html/body/form/table[2]/tbody/tr[{j}]').text)\n",
    "    for j in range(3, len(index_len2)+1):\n",
    "        df[local_list[i-1][:3]].append(driver2.find_element(By.XPATH, f'/html/body/form/table[2]/tbody/tr[{j}]').text)\n",
    "\n",
    "driver.quit()"
   ]
  },
  {
   "cell_type": "code",
   "execution_count": 80,
   "metadata": {},
   "outputs": [
    {
     "name": "stdout",
     "output_type": "stream",
     "text": [
      "['月底餘額(不含郵匯轉存款) 4,158,548 4,076,267 4,136,750 4,076,433 4,180,076 4,135,159 4,183,719 4,164,860 4,190,826 4,256,659 4,224,895 4,209,184 4,215,393', '月底餘額--活期性存款 1,482,728 1,464,372 1,498,388 1,436,039 1,507,022 1,492,566 1,482,180 1,468,903 1,464,812 1,487,344 1,495,848 1,478,735 1,507,634', '月底餘額--外匯存款 672,627 664,652 693,681 681,502 691,969 689,149 704,956 698,091 716,584 771,102 738,982 745,219 754,636', '月底餘額(不含催收款) 2,840,604 2,862,852 2,859,360 2,778,944 2,800,026 2,954,583 2,752,567 2,700,828 2,710,451 2,756,063 2,873,283 2,982,666 3,078,421', '對企業放款餘額--對民營事業 770,943 776,872 781,397 768,489 764,055 776,950 777,674 780,457 800,086 795,506 792,204 790,141 780,917', '對企業放款餘額--對中小企業 410,491 412,682 414,422 408,092 412,809 413,532 417,964 423,510 431,756 429,310 429,391 433,219 425,881', '消費者貸款餘額--金額 904,009 904,599 910,185 921,652 931,704 943,516 946,614 948,171 953,595 958,678 971,926 985,734 989,996', '消費者貸款餘額--金額-購置住宅貸款 745,458 748,116 755,395 764,397 774,245 785,135 790,080 793,687 801,088 807,835 818,843 831,240 837,673', '消費者貸款餘額--金額-其他個人消費貸款(不含信用卡循環信用) 154,035 152,047 150,461 153,006 153,274 154,257 152,497 150,525 148,633 147,041 149,373 150,849 148,761', '授信總額 2,954,734 2,975,463 2,972,196 2,886,293 2,906,592 3,060,049 2,860,075 2,807,086 2,818,445 2,863,102 2,982,067 3,087,130 3,181,395', '流通金融卡數 5,558,695 5,570,216 5,582,474 5,592,629 5,602,993 5,619,152 5,635,503 5,651,958 5,665,046 5,675,239 5,686,066 5,696,294 5,706,595', '裝設台數 754 754 755 764 764 764 764 763 763 764 764 765 765', '本月交易次數 1,694,320 2,907,463 1,578,456 1,430,484 1,466,920 1,201,241 1,293,713 1,409,802 1,370,553 1,350,511 1,500,652 1,483,289 2,779,755', '收益(累計數) 28,385 52,149 73,247 103,131 114,004 135,623 154,699 187,475 199,695 225,893 255,009 298,522 31,536', '利息收入(累計數) 4,167 8,064 12,172 16,201 20,244 24,273 28,320 32,305 36,221 40,223 44,179 48,289 4,038', '手續費收入(累計數) 451 832 1,267 1,640 2,090 2,503 2,857 3,273 3,631 3,992 4,438 5,091 511', '透過損益按公允價值衡量\\n之金融資產及負債利益(累計數) 13,889 24,640 30,319 44,740 41,438 48,979 52,018 61,438 54,039 60,626 63,823 73,515 2,105', '其他收益(累計數) 9,877 18,613 29,489 40,550 50,231 59,868 71,504 90,458 105,805 121,053 142,569 171,628 24,881', '透過損益按公允價值衡量\\n之金融資產及負債損失(累計數) 3,196 5,989 8,315 9,162 10,981 12,866 15,353 17,029 19,496 21,087 22,034 22,605 16,690', '全行/ 004 臺灣銀行 1,749 3,234 4,779 6,548 7,973 9,553 10,707 13,369 14,063 15,101 16,008 16,989 1,459', 'OBU/ 004 臺灣銀行 211 371 599 953 1,148 1,643 1,748 1,936 2,188 2,138 2,320 2,513 130', '國外分行/ 004 臺灣銀行 148 292 348 530 673 909 1,329 1,384 1,509 1,642 1,732 1,777 84']\n"
     ]
    }
   ],
   "source": [
    "print(df['004'])"
   ]
  },
  {
   "attachments": {},
   "cell_type": "markdown",
   "metadata": {},
   "source": [
    "信用卡資料"
   ]
  },
  {
   "cell_type": "code",
   "execution_count": 81,
   "metadata": {},
   "outputs": [],
   "source": [
    "# 信用卡資料\n",
    "chwd2 = driver2.window_handles\n",
    "driver2.switch_to.window(chwd2[0])\n",
    "driver2.switch_to.frame('qry11')\n",
    "driver2.find_element(By.XPATH, '//*[@id=\"c12\"]/td/a').click()\n",
    "driver2.switch_to.default_content()\n",
    "driver2.switch_to.frame('qry12')\n",
    "\n",
    "# Start\n",
    "driver2.find_element(By.XPATH, f'//*[@id=\"yyf\"]//option[text()=\"{previous_year}\"]').click()\n",
    "driver2.find_element(By.XPATH, f'//*[@id=\"mmf\"]//option[text()=\"{input_month}\"]').click()\n",
    "\n",
    "# End\n",
    "driver2.find_element(By.XPATH, f'//*[@id=\"yyt\"]//option[text()=\"{input_year}\"]').click()\n",
    "driver2.find_element(By.XPATH, f'//*[@id=\"mmt\"]//option[text()=\"{input_month}\"]').click()\n",
    "\n",
    "# 年月別\n",
    "driver2.find_element(By.XPATH, '//*[@id=\"cycle\"]/option[1]').click()\n",
    "\n",
    "# 輸出格式\n",
    "driver2.find_element(By.XPATH, '//*[@id=\"outkind\"]/option[10]').click()\n",
    "\n",
    "# 從網頁取得銀行列表: local_list2 = ['004 臺灣銀行', '005 臺灣土地銀行', ...]\n",
    "local_list2 = driver2.find_element(By.XPATH, \"/html/body/form/table[3]/tbody/tr[2]/td[2]\").text\n",
    "local_list2 = local_list2.split(\"外國銀行在臺分行\")\n",
    "local_list2 = local_list2[0].split(\"\\n\")[7:-1]\n",
    "local_list2.remove(\"810 寶華商業銀行\")\n",
    "\n",
    "\n",
    "# 信用卡資料\n",
    "options_xpath3 = [\n",
    "                  '//*[@id=\"226217350:0/0/0/$code1$/0/\"]', #取消每月發卡數(張)\n",
    "                  '//*[@id=\"226217360:0/0/0/$code1$/0/\"]', #取消每月停卡數(張)\n",
    "                  '//*[@id=\"226217370:0/0/0/$code1$/0/\"]', #取消循環信用餘額\n",
    "                  '//*[@id=\"226217380:0/0/0/$code1$/0/\"]', #取消本月簽賬金額\n",
    "                  '//*[@id=\"226217390:0/0/0/$code1$/0/\"]', #取消本月預借現金金額\n",
    "                  '//*[@id=\"226217420:0/0/0/$code1$/0/\"]', #取消備抵呆帳提足率(%)\n",
    "                  '//*[@id=\"226217430:0/0/0/$code1$/0/\"]', #取消本月轉銷呆帳金額\n",
    "                  '//*[@id=\"226217440:0/0/0/$code1$/0/\"]', #取消循環信用利息收入\n",
    "                  '//*[@id=\"226217450:0/0/0/$code1$/0/\"]', #取消簽帳手續費收入\n",
    "                  '//*[@id=\"226217460:0/0/0/$code1$/0/\"]', #取消預借現金手續費\n",
    "                  '//*[@id=\"226217470:0/0/0/$code1$/0/\"]', #取消收單特約商店家數\n",
    "                  '//*[@id=\"320011000:99999\"]', #取消總計\n",
    "                  '//*[@id=\"320011000:20000\"]', #取消本國銀行\n",
    "                  '//*[@id=\"320011000:999\"]', #取消外國銀行在台分行\n",
    "                  '//*[@id=\"320011000:10001\"]', #取消信用合作社\n",
    "                  '//*[@id=\"320011000:30000\"]', #取消信託投資公司\n",
    "                  '//*[@id=\"320011000:50000\"]', #取消信用卡公司\n",
    "]\n",
    "\n",
    "for i in options_xpath3:\n",
    "    driver2.find_element(By.XPATH, i).click()"
   ]
  },
  {
   "cell_type": "code",
   "execution_count": 82,
   "metadata": {},
   "outputs": [],
   "source": [
    "for i in range(len(local_list2)):\n",
    "    #第一間銀行\n",
    "    if i == 0:\n",
    "        driver2.find_element(By.XPATH, f'//label[text()=\"{local_list2[i]}\"]').click() #選擇銀行\n",
    "\n",
    "    #清除上一個銀行的選項並選擇下一間銀行    \n",
    "    else:\n",
    "        chwd2 = driver2.window_handles\n",
    "        driver2.switch_to.window(chwd2[0])\n",
    "        driver2.switch_to.frame('qry12')\n",
    "        driver2.find_element(By.XPATH, f'//label[text()=\"{local_list2[i-1]}\"]').click() #清除上一個選項\n",
    "        driver2.find_element(By.XPATH, f'//label[text()=\"{local_list2[i]}\"]').click() #選擇銀行\n",
    "    driver2.find_element(By.XPATH, '//*[@id=\"center\"]').click() #查詢\n",
    "    chwd2 = driver2.window_handles\n",
    "    driver2.switch_to.window(chwd2[1])\n",
    "\n",
    "    index_len2 = driver2.find_elements(By.XPATH, '/html/body/form/table[2]/tbody/tr')\n",
    "    # 抓資料並append到對應的list\n",
    "    for j in range(2, len(index_len2)+1):\n",
    "        df[local_list2[i][:3]].append(driver2.find_element(By.XPATH, f'/html/body/form/table[2]/tbody/tr[{j}]').text)\n",
    "\n",
    "driver2.quit()"
   ]
  },
  {
   "cell_type": "code",
   "execution_count": 83,
   "metadata": {},
   "outputs": [
    {
     "name": "stdout",
     "output_type": "stream",
     "text": [
      "['月底餘額(不含郵匯轉存款) 4,158,548 4,076,267 4,136,750 4,076,433 4,180,076 4,135,159 4,183,719 4,164,860 4,190,826 4,256,659 4,224,895 4,209,184 4,215,393', '月底餘額--活期性存款 1,482,728 1,464,372 1,498,388 1,436,039 1,507,022 1,492,566 1,482,180 1,468,903 1,464,812 1,487,344 1,495,848 1,478,735 1,507,634', '月底餘額--外匯存款 672,627 664,652 693,681 681,502 691,969 689,149 704,956 698,091 716,584 771,102 738,982 745,219 754,636', '月底餘額(不含催收款) 2,840,604 2,862,852 2,859,360 2,778,944 2,800,026 2,954,583 2,752,567 2,700,828 2,710,451 2,756,063 2,873,283 2,982,666 3,078,421', '對企業放款餘額--對民營事業 770,943 776,872 781,397 768,489 764,055 776,950 777,674 780,457 800,086 795,506 792,204 790,141 780,917', '對企業放款餘額--對中小企業 410,491 412,682 414,422 408,092 412,809 413,532 417,964 423,510 431,756 429,310 429,391 433,219 425,881', '消費者貸款餘額--金額 904,009 904,599 910,185 921,652 931,704 943,516 946,614 948,171 953,595 958,678 971,926 985,734 989,996', '消費者貸款餘額--金額-購置住宅貸款 745,458 748,116 755,395 764,397 774,245 785,135 790,080 793,687 801,088 807,835 818,843 831,240 837,673', '消費者貸款餘額--金額-其他個人消費貸款(不含信用卡循環信用) 154,035 152,047 150,461 153,006 153,274 154,257 152,497 150,525 148,633 147,041 149,373 150,849 148,761', '授信總額 2,954,734 2,975,463 2,972,196 2,886,293 2,906,592 3,060,049 2,860,075 2,807,086 2,818,445 2,863,102 2,982,067 3,087,130 3,181,395', '流通金融卡數 5,558,695 5,570,216 5,582,474 5,592,629 5,602,993 5,619,152 5,635,503 5,651,958 5,665,046 5,675,239 5,686,066 5,696,294 5,706,595', '裝設台數 754 754 755 764 764 764 764 763 763 764 764 765 765', '本月交易次數 1,694,320 2,907,463 1,578,456 1,430,484 1,466,920 1,201,241 1,293,713 1,409,802 1,370,553 1,350,511 1,500,652 1,483,289 2,779,755', '收益(累計數) 28,385 52,149 73,247 103,131 114,004 135,623 154,699 187,475 199,695 225,893 255,009 298,522 31,536', '利息收入(累計數) 4,167 8,064 12,172 16,201 20,244 24,273 28,320 32,305 36,221 40,223 44,179 48,289 4,038', '手續費收入(累計數) 451 832 1,267 1,640 2,090 2,503 2,857 3,273 3,631 3,992 4,438 5,091 511', '透過損益按公允價值衡量\\n之金融資產及負債利益(累計數) 13,889 24,640 30,319 44,740 41,438 48,979 52,018 61,438 54,039 60,626 63,823 73,515 2,105', '其他收益(累計數) 9,877 18,613 29,489 40,550 50,231 59,868 71,504 90,458 105,805 121,053 142,569 171,628 24,881', '透過損益按公允價值衡量\\n之金融資產及負債損失(累計數) 3,196 5,989 8,315 9,162 10,981 12,866 15,353 17,029 19,496 21,087 22,034 22,605 16,690', '全行/ 004 臺灣銀行 1,749 3,234 4,779 6,548 7,973 9,553 10,707 13,369 14,063 15,101 16,008 16,989 1,459', 'OBU/ 004 臺灣銀行 211 371 599 953 1,148 1,643 1,748 1,936 2,188 2,138 2,320 2,513 130', '國外分行/ 004 臺灣銀行 148 292 348 530 673 909 1,329 1,384 1,509 1,642 1,732 1,777 84', '流通卡數(張) 222,708 222,920 223,718 224,958 226,098 226,663 227,461 228,497 230,218 231,864 233,490 234,262 234,797', '有效卡數(張) 112,038 111,506 111,186 111,493 110,938 110,295 110,383 110,423 110,749 112,109 113,526 117,109 118,098', '逾期帳款比率(%) 0.16 0.17 0.25 0.25 0.29 0.19 0.07 0.13 0.08 0.08 0.06 0.08 0.09']\n"
     ]
    }
   ],
   "source": [
    "print(df['004'])"
   ]
  },
  {
   "attachments": {},
   "cell_type": "markdown",
   "metadata": {},
   "source": [
    "#### 資料整理"
   ]
  },
  {
   "attachments": {},
   "cell_type": "markdown",
   "metadata": {},
   "source": [
    "設定欄位名稱"
   ]
  },
  {
   "cell_type": "code",
   "execution_count": 84,
   "metadata": {},
   "outputs": [],
   "source": [
    "import datetime\n",
    "from dateutil.relativedelta import relativedelta\n",
    "input_year = str(int(input_year) + 1911)\n",
    "previous_year = str(int(previous_year) + 1911)\n",
    "input_date = input_year+\"/\"+input_month+\"/\"+\"01\"\n",
    "datetime = datetime.datetime.strptime(input_date, '%Y/%m/%d')\n",
    "\n",
    "columns = [\"銀行別\"]\n",
    "for i in range(12, -1, -1):\n",
    "    past_date = datetime - relativedelta(months=i)\n",
    "    columns.append(str(past_date.year)+\"年\"+str(past_date.month)+\"月\")"
   ]
  },
  {
   "attachments": {},
   "cell_type": "markdown",
   "metadata": {},
   "source": [
    "整理指標成DataFrame"
   ]
  },
  {
   "cell_type": "code",
   "execution_count": 85,
   "metadata": {},
   "outputs": [],
   "source": [
    "def number_format(x):\n",
    "    try:\n",
    "        return int(x.replace(\",\", \"\"))\n",
    "    except ValueError:\n",
    "        return None"
   ]
  },
  {
   "cell_type": "code",
   "execution_count": 86,
   "metadata": {},
   "outputs": [],
   "source": [
    "總存款月底餘額 = {} #1\n",
    "活期性存款月底餘額 = {} #2\n",
    "外匯存款餘額 = {} #5\n",
    "總放款餘額 = {} #7\n",
    "消費者貸款餘額 = {} #8\n",
    "房貸餘額 = {} #9\n",
    "其他個人消費貸款餘 = {} #10\n",
    "授信總額 = {} #extra\n",
    "民營企業放款餘額 = {} #11\n",
    "中小企業放款餘額 = {} #12\n",
    "ATM裝設臺數 = {} #13\n",
    "金融卡交易次數 = {} #14\n",
    "流通金融卡數 = {} #15\n",
    "總利息收入 = {} #16\n",
    "總手續費收入 = {} #17\n",
    "# 淨公平市價變動利益 = {} #18\n",
    "# 淨公平市價變動費損 = {} #18\n",
    "淨公平市價變動損益 = {} #18\n",
    "其他收益 = {} #19\n",
    "總營業收入 = {} #20\n",
    "累計稅前損益 = {} #21\n",
    "OBU累計稅前損益 = {} #22\n",
    "國外分行累計稅前損益 = {} #23\n",
    "信用卡有效卡數 = {} #24\n",
    "信用卡流通卡數 = {} #25\n",
    "活卡率 = {} #26\n",
    "信用卡逾期帳款比率 = {} #34\n",
    "\n",
    "# df = {'004':[], '005':[], ...}\n",
    "for i in df:\n",
    "    總存款月底餘額[i] = df[i][0].split()[1:]\n",
    "    活期性存款月底餘額[i] = df[i][1].split()[1:]\n",
    "    外匯存款餘額[i] = df[i][2].split()[1:]\n",
    "    總放款餘額[i] = df[i][3].split()[1:]\n",
    "    民營企業放款餘額[i] = df[i][4].split()[1:]\n",
    "    中小企業放款餘額[i] = df[i][5].split()[1:]\n",
    "    消費者貸款餘額[i] = df[i][6].split()[1:]\n",
    "    房貸餘額[i] = df[i][7].split()[1:]\n",
    "    其他個人消費貸款餘[i] = df[i][8].split()[1:]\n",
    "    授信總額[i] = df[i][9].split()[1:]\n",
    "    流通金融卡數[i] = df[i][10].split()[1:]\n",
    "    ATM裝設臺數[i] = df[i][11].split()[1:]\n",
    "    金融卡交易次數[i] = df[i][12].split()[1:]\n",
    "    總營業收入[i] = df[i][13].split()[1:]\n",
    "    總利息收入[i] = df[i][14].split()[1:]\n",
    "    總手續費收入[i] = df[i][15].split()[1:]\n",
    "    try:\n",
    "        淨公平市價變動損益[i] = [str(int(x.replace(\",\", \"\")) - int(y.replace(\",\", \"\"))) \\\n",
    "                        for x, y in zip(df[i][16].split()[2:],df[i][18].split()[2:])]\n",
    "    except:\n",
    "        淨公平市價變動損益[i] = df[i][18].split()[2:]\n",
    "    其他收益[i] = df[i][17].split()[1:]\n",
    "    累計稅前損益[i] = df[i][19].split()[3:]\n",
    "    OBU累計稅前損益[i] = df[i][20].split()[3:]\n",
    "    國外分行累計稅前損益[i] = df[i][21].split()[3:]\n",
    "    try:\n",
    "        信用卡流通卡數[i] = df[i][22].split()[1:]\n",
    "        信用卡有效卡數[i] = df[i][23].split()[1:]\n",
    "        try:\n",
    "            活卡率[i] = ['{:,.2%}'.format(int(x.replace(\",\", \"\"))/int(y.replace(\",\", \"\"))) \\\n",
    "                            for x, y in zip(df[i][23].split()[1:],df[i][22].split()[1:])]\n",
    "        except:\n",
    "            活卡率[i] = df[i][22].split()[1:]\n",
    "        信用卡逾期帳款比率[i] = df[i][24].split()[1:]\n",
    "    except IndexError:\n",
    "        pass\n",
    "\n",
    "ratio_list = [總存款月底餘額, 活期性存款月底餘額, 外匯存款餘額, 總放款餘額, 民營企業放款餘額, 中小企業放款餘額, 消費者貸款餘額,\n",
    "              房貸餘額, 其他個人消費貸款餘, 授信總額, 流通金融卡數, ATM裝設臺數, 金融卡交易次數, 總營業收入, 總利息收入, \n",
    "              總手續費收入, 淨公平市價變動損益, 其他收益, 累計稅前損益, OBU累計稅前損益, 國外分行累計稅前損益, 信用卡流通卡數,\n",
    "              信用卡有效卡數, 活卡率, 信用卡逾期帳款比率]\n",
    "ratio_name = [\"總存款月底餘額\", \"活期性存款月底餘額\", \"外匯存款餘額\", \"總放款餘額\", \"民營企業放款餘額\", \"中小企業放款餘額\", \"消費者貸款餘額\",\n",
    "              \"房貸餘額\", \"其他個人消費貸款餘\", \"授信總額\", \"流通金融卡數\", \"ATM裝設臺數\", \"金融卡交易次數\", \"總營業收入\", \"總利息收入\", \n",
    "              \"總手續費收入\", \"淨公平市價變動損益\", \"其他收益\", \"累計稅前損益\", \"OBU累計稅前損益\", \"國外分行累計稅前損益\", \"信用卡流通卡數\",\n",
    "              \"信用卡有效卡數\", \"活卡率\", \"信用卡逾期帳款比率\"]"
   ]
  },
  {
   "cell_type": "code",
   "execution_count": 97,
   "metadata": {},
   "outputs": [
    {
     "name": "stdout",
     "output_type": "stream",
     "text": [
      "{'004': ['4,158,548', '4,076,267', '4,136,750', '4,076,433', '4,180,076', '4,135,159', '4,183,719', '4,164,860', '4,190,826', '4,256,659', '4,224,895', '4,209,184', '4,215,393'], '005': ['2,447,231', '2,430,482', '2,454,490', '2,495,697', '2,512,087', '2,534,612', '2,551,245', '2,557,904', '2,578,813', '2,596,568', '2,662,815', '2,725,700', '2,706,834'], '006': ['3,257,763', '3,281,637', '3,272,283', '3,325,202', '3,248,058', '3,352,468', '3,361,610', '3,351,610', '3,361,204', '3,431,358', '3,434,010', '3,479,943', '3,453,753'], '007': ['2,734,243', '2,745,095', '2,758,672', '2,794,768', '2,753,248', '2,796,620', '2,852,379', '2,859,282', '2,836,344', '2,878,638', '2,926,686', '2,940,730', '2,964,288'], '008': ['2,569,058', '2,591,432', '2,624,515', '2,669,428', '2,725,856', '2,652,481', '2,714,641', '2,760,612', '2,748,948', '2,761,636', '2,817,222', '2,845,806', '2,828,722'], '009': ['1,958,566', '1,976,122', '1,993,716', '1,989,020', '1,938,546', '2,016,854', '2,049,217', '2,037,319', '2,034,767', '2,063,844', '2,077,611', '2,156,378', '2,187,738'], '011': ['1,020,338', '1,016,564', '1,021,463', '1,015,028', '1,018,201', '1,022,586', '1,025,444', '1,039,499', '1,038,820', '1,041,023', '1,045,351', '1,050,220', '1,053,254'], '012': ['2,142,113', '2,164,367', '2,138,943', '2,128,586', '2,140,184', '2,192,556', '2,244,953', '2,313,343', '2,393,571', '2,448,461', '2,486,002', '2,472,085', '2,590,317'], '013': ['2,580,246', '2,604,295', '2,605,376', '2,623,302', '2,652,290', '2,687,149', '2,720,483', '2,733,805', '2,766,622', '2,776,451', '2,813,553', '2,843,899', '2,841,037'], '015': ['－', '－', '－', '－', '－', '－', '－', '－', '－', '－', '－', '－', '－'], '016': ['233,733', '232,166', '228,992', '236,013', '227,108', '237,923', '235,772', '234,579', '237,797', '237,159', '236,909', '241,526', '238,937'], '017': ['2,586,259', '2,708,160', '2,744,124', '2,715,504', '2,741,823', '2,755,334', '2,737,039', '2,848,649', '2,837,225', '2,847,977', '2,884,410', '2,946,686', '2,884,784'], '021': ['650,528', '655,285', '617,169', '623,638', '703,157', '644,771', '664,334', '666,844', '650,713', '644,756', '653,569', '604,961', '618,560'], '048': ['242,187', '241,782', '241,086', '241,955', '239,683', '236,570', '238,526', '245,532', '244,096', '240,826', '238,242', '238,055', '242,497'], '050': ['1,406,464', '1,405,281', '1,442,786', '1,486,764', '1,503,760', '1,503,187', '1,584,122', '1,619,174', '1,671,507', '1,627,568', '1,635,095', '1,668,611', '1,644,043'], '052': ['616,455', '613,070', '574,950', '560,869', '579,880', '582,996', '594,764', '585,470', '572,886', '579,963', '572,223', '579,750', '572,078'], '053': ['633,134', '634,650', '641,531', '645,967', '644,963', '649,693', '644,130', '646,901', '647,796', '652,041', '654,471', '661,328', '661,122'], '054': ['227,756', '230,216', '231,974', '235,399', '235,301', '235,575', '238,125', '240,392', '242,748', '245,549', '248,212', '252,823', '253,357'], '081': ['458,833', '463,534', '462,973', '455,340', '472,435', '440,241', '430,518', '453,240', '441,961', '434,173', '437,019', '442,068', '437,633'], '101': ['71,135', '71,164', '70,973', '71,512', '70,536', '69,092', '68,972', '69,603', '69,370', '68,636', '69,088', '71,932', '72,150'], '102': ['138,068', '139,465', '139,445', '140,021', '143,581', '146,722', '147,758', '147,832', '144,787', '148,093', '145,504', '146,913', '146,155'], '103': ['918,557', '933,174', '943,946', '958,047', '967,192', '986,962', '1,000,359', '1,019,993', '1,015,235', '1,032,902', '1,025,723', '1,043,994', '1,054,726'], '108': ['527,628', '530,469', '535,346', '539,253', '539,632', '540,935', '545,546', '547,234', '553,736', '556,074', '562,596', '574,287', '569,759'], '118': ['242,365', '245,622', '249,969', '252,181', '250,029', '252,847', '252,899', '255,831', '253,794', '254,930', '254,467', '254,810', '254,584'], '147': ['163,333', '163,145', '162,283', '162,011', '162,464', '162,837', '161,648', '162,313', '163,639', '165,430', '166,380', '167,919', '167,288'], '803': ['609,319', '612,163', '613,739', '616,706', '619,138', '626,386', '628,028', '638,252', '645,594', '645,113', '652,579', '672,648', '662,011'], '805': ['545,771', '547,352', '551,892', '571,644', '562,708', '566,826', '576,476', '579,339', '577,401', '572,628', '597,802', '595,770', '600,785'], '806': ['1,244,526', '1,255,934', '1,278,468', '1,299,883', '1,321,851', '1,365,220', '1,388,712', '1,397,683', '1,419,645', '1,422,596', '1,426,404', '1,457,176', '1,436,803'], '807': ['1,588,094', '1,637,715', '1,669,663', '1,702,783', '1,707,614', '1,716,852', '1,707,274', '1,726,837', '1,709,273', '1,702,044', '1,719,467', '1,793,195', '1,755,825'], '808': ['2,436,971', '2,411,853', '2,395,396', '2,434,990', '2,374,597', '2,456,679', '2,472,967', '2,500,208', '2,508,220', '2,530,438', '2,611,946', '2,650,076', '2,605,808'], '809': ['521,099', '490,077', '489,847', '495,540', '483,104', '507,667', '502,551', '493,799', '471,106', '482,111', '487,288', '502,551', '490,732'], '810': ['359,445', '349,409', '362,128', '359,705', '354,419', '346,698', '350,201', '371,782', '371,151', '368,059', '377,475', '358,773', '359,564'], '812': ['1,617,200', '1,644,632', '1,635,452', '1,640,966', '1,647,334', '1,649,750', '1,632,568', '1,647,545', '1,677,678', '1,670,948', '1,702,495', '1,691,305', '1,740,050'], '815': ['237,839', '239,751', '234,782', '241,387', '239,938', '239,624', '235,437', '235,568', '233,663', '235,298', '236,539', '238,445', '235,240'], '816': ['263,101', '267,815', '269,321', '270,170', '271,424', '275,387', '272,349', '268,867', '267,971', '271,783', '273,047', '283,923', '281,030'], '822': ['3,080,957', '3,143,769', '3,140,613', '3,177,893', '3,224,678', '3,217,912', '3,280,475', '3,335,633', '3,315,197', '3,343,931', '3,379,871', '3,356,112', '3,357,085'], '823': ['－', '－', '－', '－', '－', '－', '－', '－', '－', '－', '－', '－', '3'], '824': ['－', '－', '22', '200', '722', '1,428', '6,267', '10,201', '12,786', '15,251', '19,178', '23,380', '28,810'], '826': ['257', '570', '898', '1,318', '1,868', '2,572', '2,938', '3,227', '3,915', '4,781', '5,504', '6,314', '8,176'], '001': ['－', '－', '－', '－', '－', '－', '－', '－', '－', '－', '－', '－', '－'], '002': ['－', '－', '－', '－', '－', '－', '－', '－', '－', '－', '－', '－', '－'], '003': ['－', '－', '－', '－', '－', '－', '－', '－', '－', '－', '－', '－', '－'], '327': ['－', '－', '－', '－', '－', '－', '－', '－', '－', '－', '－', '－', '－'], '040': ['－', '－', '－', '－', '－', '－', '－', '－', '－', '－', '－', '－', '－'], '151': ['－', '－', '－', '－', '－', '－', '－', '－', '－', '－', '－', '－', '－'], '804': ['－', '－', '－', '－', '－', '－', '－', '－', '－', '－', '－', '－', '－'], '814': ['－', '－', '－', '－', '－', '－', '－', '－', '－', '－', '－', '－', '－'], '825': ['－', '－', '－', '－', '－', '－', '－', '－', '－', '－', '－', '－', '－'], '051': ['－', '－', '－', '－', '－', '－', '－', '－', '－', '－', '－', '－', '－'], '055': ['－', '－', '－', '－', '－', '－', '－', '－', '－', '－', '－', '－', '－'], '056': ['－', '－', '－', '－', '－', '－', '－', '－', '－', '－', '－', '－', '－'], '057': ['－', '－', '－', '－', '－', '－', '－', '－', '－', '－', '－', '－', '－']}\n"
     ]
    }
   ],
   "source": [
    "print(總存款月底餘額)"
   ]
  },
  {
   "cell_type": "code",
   "execution_count": 108,
   "metadata": {},
   "outputs": [],
   "source": [
    "# 建立一個空dict來放dataframe: ratio_dict={\"總存款月底餘額\":df, \"活期性存款月底餘額\":df, ...}\n",
    "ratio_dict = {}\n",
    "for i in range(len(ratio_list)):\n",
    "    ratio_df = ratio_list[i]\n",
    "    ratio_df = pd.DataFrame(ratio_df.items(), columns=[columns[0], \"others\"])\n",
    "    ratio_df = pd.concat([ratio_df.iloc[:,0], pd.DataFrame(ratio_df.iloc[:,1].to_list(), columns=columns[1:])],axis=1)\n",
    "    ratio_df = ratio_df.replace({\"銀行別\":local_dict})\n",
    "    ratio_df = ratio_df.set_index(\"銀行別\")\n",
    "    ratio_df = ratio_df.replace(\"－\", np.nan)\n",
    "    if (ratio_name[i] == \"活卡率\") | (ratio_name[i] == \"信用卡逾期帳款比率\"):\n",
    "        pass\n",
    "    else:\n",
    "        ratio_df = ratio_df.applymap(lambda x:str(x)).applymap(lambda x:number_format(x))\n",
    "        month_total = []\n",
    "        top_twenty = []\n",
    "        for column in ratio_df:\n",
    "            total = ratio_df[column].sum()\n",
    "            top = ratio_df[column].nlargest(20).sum()\n",
    "            month_total.append(total)\n",
    "            top_twenty.append(top)\n",
    "        ratio_df.loc['前20'] = top_twenty\n",
    "        ratio_df.loc['總額'] = month_total\n",
    "\n",
    "    ratio_dict[ratio_name[i]] = ratio_df\n",
    "\n",
    "# 利用ratio_dict[\"指標\"] 來呼叫相關dataframe, 例: ratio_dict[\"總存款月底餘額\"]"
   ]
  },
  {
   "cell_type": "code",
   "execution_count": 109,
   "metadata": {},
   "outputs": [],
   "source": [
    "# 計算市占率及排名並把資料寫到對應dataframe的右邊\n",
    "for i in range(1, len(columns)):\n",
    "    for j in ratio_name:\n",
    "        if j == \"活卡率\":\n",
    "            ratio_dict[j][columns[i]+\"市占率\"] = np.nan\n",
    "            ratio_dict[j][columns[i]+\"排名\"] = ratio_dict[j][columns[i]].rank(ascending=False)\n",
    "        elif j == \"信用卡逾期帳款比率\":\n",
    "            ratio_dict[j][columns[i]+\"市占率\"] = np.nan\n",
    "            ratio_dict[j][columns[i]+\"排名\"] = ratio_dict[j][columns[i]].rank(ascending=True)            \n",
    "        else:\n",
    "            ratio_dict[j][columns[i]+\"市占率\"] = ratio_dict[j][columns[i]]/ratio_dict[j][columns[i]].sum()\n",
    "            ratio_dict[j][columns[i]+\"排名\"] = ratio_dict[j][columns[i]+\"市占率\"].rank(ascending=False)\n",
    "            ratio_dict[j][columns[i]+\"市占率\"] = ratio_dict[j][columns[i]+\"市占率\"].map(lambda x: '{:.2%}'.format(x))"
   ]
  },
  {
   "cell_type": "code",
   "execution_count": 113,
   "metadata": {},
   "outputs": [],
   "source": [
    "# 把ratio_dict中的每個value(dataframe)寫成key.csv\n",
    "for key, value in ratio_dict.items():\n",
    "    file_name = key + \".csv\"\n",
    "    value.to_csv(file_name, encoding='utf-8', index=True)"
   ]
  },
  {
   "attachments": {},
   "cell_type": "markdown",
   "metadata": {},
   "source": [
    "#### 電子支付（譯心）"
   ]
  },
  {
   "cell_type": "code",
   "execution_count": 90,
   "metadata": {},
   "outputs": [],
   "source": [
    "import time\n",
    "import csv\n",
    "import os\n",
    "import pandas as pd\n",
    "import zipfile\n",
    "\n",
    "from selenium import webdriver\n",
    "from selenium.common.exceptions import TimeoutException\n",
    "from selenium.webdriver.common.by import By\n",
    "from selenium.webdriver.support import expected_conditions as EC\n",
    "from selenium.webdriver.support.ui import WebDriverWait\n",
    "from selenium.webdriver.common.keys import Keys\n",
    "from selenium.webdriver.support.select import Select\n",
    "from selenium.webdriver.chrome.options import Options\n",
    "\n",
    "# month_list\n",
    "def m_lst(yy, mm):\n",
    "\tyear = int(yy)\n",
    "\tmonth = int(mm)\n",
    "\tlst = []\n",
    "\t[lst.append(str(year-1912)+ f'{i:02d}') for i in range(month, 13)]\n",
    "\t[lst.append(str(year-1911)+ f'{i:02d}') for i in range(1, month+1)]\n",
    "\treturn lst\n",
    "month_name_lst = m_lst(input_year,input_month)\n",
    "\n",
    "def number_format(x):\n",
    "    try:\n",
    "        return int(x.replace(\",\", \"\"))\n",
    "    except ValueError:\n",
    "        return None\n",
    "\n",
    "def target_months(x,y):\n",
    "\tyear = int(x)\n",
    "\tmonth = int(y)\n",
    "\tly = f'{year -1}'\n",
    "\tif month == 1:\n",
    "\t\tlm = '12'\n",
    "\t\tlmy = ly\n",
    "\telse:\n",
    "\t\tlm = f'{month-1}'\n",
    "\t\tlmy = x\n",
    "\ttarget_list = [f\"{x}年{y}月\",f\"{lmy}年{lm}月\",f\"{ly}年12月\",f\"{ly}年{y}月\"]\n",
    "\treturn target_list\n",
    "\n",
    "\n",
    "# 目錄前置：建立檔案下載資料夾\n",
    "py_path = os.path.abspath('.')\n",
    "folder_path = os.path.join(py_path, 'download')\n",
    "zip_path = os.path.join(py_path, 'unzip')\n",
    "out_path = os.path.join(py_path, 'output')\n",
    "if not os.path.isdir(folder_path):\n",
    "    os.mkdir(folder_path)\n",
    "if not os.path.isdir(out_path):\n",
    "\tos.mkdir(out_path)\n",
    "if not os.path.isdir(zip_path):\n",
    "    os.mkdir(zip_path)\n",
    "\n",
    "# 選擇月份區間\n",
    "# target = ['2023','1']\n",
    "target = [f'{int(input_year)}', input_month]\n",
    "month = [f'{int(target[0])-1911}年度', int(target[1]), f'{int(target[0])-1912}年度', int(target[1])]  #['112年度',1,'111年度',1]\n",
    "# month = [f'{int(input_year)-1911}年度', int(input_month), f'{int(input_year)-1912}年度', int(input_month)]  #['112年度',1,'111年度',1]"
   ]
  },
  {
   "cell_type": "code",
   "execution_count": 91,
   "metadata": {},
   "outputs": [],
   "source": [
    "# 更改網頁下載位置\n",
    "options = Options()\n",
    "options.chrome_executable_path = r'chromedriver.exe' \n",
    "prefs = {\"download.default_directory\" : folder_path}\n",
    "options.add_experimental_option(\"prefs\",prefs)\n",
    "\n",
    "# 進入網站\n",
    "driver = webdriver.Chrome(options = options)\n",
    "driver.get(\"https://www.banking.gov.tw/ch/home.jsp?id=192&parentpath=0,4&mcustomize=multimessage_view.jsp&dataserno=201805300001&dtable=Disclosure\")\n",
    "driver.maximize_window()\n",
    "\n",
    "## 下載檔案\n",
    "table = driver.find_element(By.XPATH, '/html/body/div[1]/section/div[2]/div[3]/div[2]/div[2]/table/tbody')\n",
    "for i in range(1,len(table.find_elements(By.TAG_NAME, 'tr'))+1,2):\n",
    "\tyear_path = driver.find_element(By.XPATH, f'/html/body/div[1]/section/div[2]/div[3]/div[2]/div[2]/table/tbody/tr[{i}]/th')\n",
    "\tyear_text = year_path.text  # 年度文字\n",
    "\tif year_text == month[0]:\n",
    "\t\tfor j in range(1,month[1]+1):\n",
    "\t\t\tdriver.find_element(By.XPATH, f'/html/body/div[1]/section/div[2]/div[3]/div[2]/div[2]/table/tbody/tr[{i}]/td[{j}]').click()\n",
    "\telif year_text == month[2]:\n",
    "\t\tfor j in range(month[1],13):\n",
    "\t\t\tdriver.find_element(By.XPATH, f'/html/body/div[1]/section/div[2]/div[3]/div[2]/div[2]/table/tbody/tr[{i}]/td[{j}]').click()\n",
    "\n",
    "# 關閉網頁\n",
    "driver.close()"
   ]
  },
  {
   "cell_type": "code",
   "execution_count": 92,
   "metadata": {},
   "outputs": [],
   "source": [
    "## 解壓縮讀取檔案\n",
    "# 讀取所有檔案名稱tolist\n",
    "name_list = os.listdir(folder_path)\n",
    "try:\n",
    "\tname_list.remove('.DS_Store')\n",
    "except:\n",
    "\tpass\n",
    "\n",
    "# 解壓縮\n",
    "for i in name_list:\n",
    "\tfile_name = os.path.join(folder_path, i)\n",
    "\twith zipfile.ZipFile(file_name,'r') as ZIP:\n",
    "\t\tf_in_zip = ZIP.namelist()\n",
    "\t\tfor file in f_in_zip:\n",
    "\t\t\tif file.endswith('.xlsx'):\n",
    "\t\t\t\tZIP.extract(file, path = zip_path)\n",
    "# 刪除壓縮檔\n",
    "\tos.remove(file_name)\n",
    "os.rmdir(folder_path)"
   ]
  },
  {
   "cell_type": "code",
   "execution_count": 93,
   "metadata": {},
   "outputs": [
    {
     "ename": "FileExistsError",
     "evalue": "[WinError 183] 當檔案已存在時，無法建立該檔案。: './unzip/11001_╣qñlñΣÑI¡½¡n╕Ω░T┤ª┼S.xlsx' -> './unzip/11001.xlsx'",
     "output_type": "error",
     "traceback": [
      "\u001b[1;31m---------------------------------------------------------------------------\u001b[0m",
      "\u001b[1;31mFileExistsError\u001b[0m                           Traceback (most recent call last)",
      "Cell \u001b[1;32mIn[93], line 5\u001b[0m\n\u001b[0;32m      3\u001b[0m excel_list \u001b[39m=\u001b[39m os\u001b[39m.\u001b[39mlistdir(zip_path)\n\u001b[0;32m      4\u001b[0m \u001b[39mfor\u001b[39;00m i \u001b[39min\u001b[39;00m excel_list:\n\u001b[1;32m----> 5\u001b[0m \tos\u001b[39m.\u001b[39;49mrename(\u001b[39mf\u001b[39;49m\u001b[39m'\u001b[39;49m\u001b[39m./unzip/\u001b[39;49m\u001b[39m{\u001b[39;49;00mi\u001b[39m}\u001b[39;49;00m\u001b[39m'\u001b[39;49m, \u001b[39mf\u001b[39;49m\u001b[39m'\u001b[39;49m\u001b[39m./unzip/\u001b[39;49m\u001b[39m{\u001b[39;49;00mi[:\u001b[39m5\u001b[39;49m]\u001b[39m}\u001b[39;49;00m\u001b[39m.xlsx\u001b[39;49m\u001b[39m'\u001b[39;49m)\n\u001b[0;32m      6\u001b[0m excel_list \u001b[39m=\u001b[39m os\u001b[39m.\u001b[39mlistdir(zip_path)\n",
      "\u001b[1;31mFileExistsError\u001b[0m: [WinError 183] 當檔案已存在時，無法建立該檔案。: './unzip/11001_╣qñlñΣÑI¡½¡n╕Ω░T┤ª┼S.xlsx' -> './unzip/11001.xlsx'"
     ]
    }
   ],
   "source": [
    "## 讀取excel檔\n",
    "# 檔案重命名：11101  *111年1月*\n",
    "excel_list = os.listdir(zip_path)\n",
    "for i in excel_list:\n",
    "\tos.rename(f'./unzip/{i}', f'./unzip/{i[:5]}.xlsx')\n",
    "excel_list = os.listdir(zip_path)"
   ]
  },
  {
   "cell_type": "code",
   "execution_count": null,
   "metadata": {},
   "outputs": [
    {
     "ename": "ImportError",
     "evalue": "Missing optional dependency 'openpyxl'.  Use pip or conda to install openpyxl.",
     "output_type": "error",
     "traceback": [
      "\u001b[1;31m---------------------------------------------------------------------------\u001b[0m",
      "\u001b[1;31mModuleNotFoundError\u001b[0m                       Traceback (most recent call last)",
      "File \u001b[1;32mc:\\Users\\Chance\\AppData\\Local\\Programs\\Python\\Python311\\Lib\\site-packages\\pandas\\compat\\_optional.py:141\u001b[0m, in \u001b[0;36mimport_optional_dependency\u001b[1;34m(name, extra, errors, min_version)\u001b[0m\n\u001b[0;32m    140\u001b[0m \u001b[39mtry\u001b[39;00m:\n\u001b[1;32m--> 141\u001b[0m     module \u001b[39m=\u001b[39m importlib\u001b[39m.\u001b[39;49mimport_module(name)\n\u001b[0;32m    142\u001b[0m \u001b[39mexcept\u001b[39;00m \u001b[39mImportError\u001b[39;00m:\n",
      "File \u001b[1;32mc:\\Users\\Chance\\AppData\\Local\\Programs\\Python\\Python311\\Lib\\importlib\\__init__.py:126\u001b[0m, in \u001b[0;36mimport_module\u001b[1;34m(name, package)\u001b[0m\n\u001b[0;32m    125\u001b[0m         level \u001b[39m+\u001b[39m\u001b[39m=\u001b[39m \u001b[39m1\u001b[39m\n\u001b[1;32m--> 126\u001b[0m \u001b[39mreturn\u001b[39;00m _bootstrap\u001b[39m.\u001b[39;49m_gcd_import(name[level:], package, level)\n",
      "File \u001b[1;32m<frozen importlib._bootstrap>:1206\u001b[0m, in \u001b[0;36m_gcd_import\u001b[1;34m(name, package, level)\u001b[0m\n",
      "File \u001b[1;32m<frozen importlib._bootstrap>:1178\u001b[0m, in \u001b[0;36m_find_and_load\u001b[1;34m(name, import_)\u001b[0m\n",
      "File \u001b[1;32m<frozen importlib._bootstrap>:1142\u001b[0m, in \u001b[0;36m_find_and_load_unlocked\u001b[1;34m(name, import_)\u001b[0m\n",
      "\u001b[1;31mModuleNotFoundError\u001b[0m: No module named 'openpyxl'",
      "\nDuring handling of the above exception, another exception occurred:\n",
      "\u001b[1;31mImportError\u001b[0m                               Traceback (most recent call last)",
      "Cell \u001b[1;32mIn[20], line 10\u001b[0m\n\u001b[0;32m      7\u001b[0m df_lst_text \u001b[39m=\u001b[39m [\u001b[39m'\u001b[39m\u001b[39m電子支付使用者人數\u001b[39m\u001b[39m'\u001b[39m,\u001b[39m'\u001b[39m\u001b[39m電子支付當月代理收付實質款項交易金額\u001b[39m\u001b[39m'\u001b[39m,\u001b[39m'\u001b[39m\u001b[39m電子支付支付款項餘額\u001b[39m\u001b[39m'\u001b[39m]\n\u001b[0;32m      9\u001b[0m \u001b[39mfor\u001b[39;00m i \u001b[39min\u001b[39;00m month_name_lst:\n\u001b[1;32m---> 10\u001b[0m \texcel \u001b[39m=\u001b[39m pd\u001b[39m.\u001b[39;49mread_excel(\u001b[39mf\u001b[39;49m\u001b[39m\"\u001b[39;49m\u001b[39m./unzip/\u001b[39;49m\u001b[39m{\u001b[39;49;00mi\u001b[39m}\u001b[39;49;00m\u001b[39m.xlsx\u001b[39;49m\u001b[39m\"\u001b[39;49m)\n\u001b[0;32m     11\u001b[0m \texcel \u001b[39m=\u001b[39m excel\u001b[39m.\u001b[39mdrop(excel\u001b[39m.\u001b[39mcolumns\u001b[39m.\u001b[39mtolist()[\u001b[39m3\u001b[39m:\u001b[39m-\u001b[39m\u001b[39m1\u001b[39m], axis\u001b[39m=\u001b[39m\u001b[39m1\u001b[39m)\n\u001b[0;32m     12\u001b[0m \texcel\u001b[39m.\u001b[39mcolumns \u001b[39m=\u001b[39m [\u001b[39m'\u001b[39m\u001b[39mbank\u001b[39m\u001b[39m'\u001b[39m,\u001b[39m'\u001b[39m\u001b[39m電子支付使用者人數\u001b[39m\u001b[39m'\u001b[39m,\u001b[39m'\u001b[39m\u001b[39m電子支付當月代理收付實質款項交易金額\u001b[39m\u001b[39m'\u001b[39m,\u001b[39m'\u001b[39m\u001b[39m電子支付支付款項餘額\u001b[39m\u001b[39m'\u001b[39m]\n",
      "File \u001b[1;32mc:\\Users\\Chance\\AppData\\Local\\Programs\\Python\\Python311\\Lib\\site-packages\\pandas\\util\\_decorators.py:211\u001b[0m, in \u001b[0;36mdeprecate_kwarg.<locals>._deprecate_kwarg.<locals>.wrapper\u001b[1;34m(*args, **kwargs)\u001b[0m\n\u001b[0;32m    209\u001b[0m     \u001b[39melse\u001b[39;00m:\n\u001b[0;32m    210\u001b[0m         kwargs[new_arg_name] \u001b[39m=\u001b[39m new_arg_value\n\u001b[1;32m--> 211\u001b[0m \u001b[39mreturn\u001b[39;00m func(\u001b[39m*\u001b[39;49margs, \u001b[39m*\u001b[39;49m\u001b[39m*\u001b[39;49mkwargs)\n",
      "File \u001b[1;32mc:\\Users\\Chance\\AppData\\Local\\Programs\\Python\\Python311\\Lib\\site-packages\\pandas\\util\\_decorators.py:331\u001b[0m, in \u001b[0;36mdeprecate_nonkeyword_arguments.<locals>.decorate.<locals>.wrapper\u001b[1;34m(*args, **kwargs)\u001b[0m\n\u001b[0;32m    325\u001b[0m \u001b[39mif\u001b[39;00m \u001b[39mlen\u001b[39m(args) \u001b[39m>\u001b[39m num_allow_args:\n\u001b[0;32m    326\u001b[0m     warnings\u001b[39m.\u001b[39mwarn(\n\u001b[0;32m    327\u001b[0m         msg\u001b[39m.\u001b[39mformat(arguments\u001b[39m=\u001b[39m_format_argument_list(allow_args)),\n\u001b[0;32m    328\u001b[0m         \u001b[39mFutureWarning\u001b[39;00m,\n\u001b[0;32m    329\u001b[0m         stacklevel\u001b[39m=\u001b[39mfind_stack_level(),\n\u001b[0;32m    330\u001b[0m     )\n\u001b[1;32m--> 331\u001b[0m \u001b[39mreturn\u001b[39;00m func(\u001b[39m*\u001b[39;49margs, \u001b[39m*\u001b[39;49m\u001b[39m*\u001b[39;49mkwargs)\n",
      "File \u001b[1;32mc:\\Users\\Chance\\AppData\\Local\\Programs\\Python\\Python311\\Lib\\site-packages\\pandas\\io\\excel\\_base.py:482\u001b[0m, in \u001b[0;36mread_excel\u001b[1;34m(io, sheet_name, header, names, index_col, usecols, squeeze, dtype, engine, converters, true_values, false_values, skiprows, nrows, na_values, keep_default_na, na_filter, verbose, parse_dates, date_parser, thousands, decimal, comment, skipfooter, convert_float, mangle_dupe_cols, storage_options)\u001b[0m\n\u001b[0;32m    480\u001b[0m \u001b[39mif\u001b[39;00m \u001b[39mnot\u001b[39;00m \u001b[39misinstance\u001b[39m(io, ExcelFile):\n\u001b[0;32m    481\u001b[0m     should_close \u001b[39m=\u001b[39m \u001b[39mTrue\u001b[39;00m\n\u001b[1;32m--> 482\u001b[0m     io \u001b[39m=\u001b[39m ExcelFile(io, storage_options\u001b[39m=\u001b[39;49mstorage_options, engine\u001b[39m=\u001b[39;49mengine)\n\u001b[0;32m    483\u001b[0m \u001b[39melif\u001b[39;00m engine \u001b[39mand\u001b[39;00m engine \u001b[39m!=\u001b[39m io\u001b[39m.\u001b[39mengine:\n\u001b[0;32m    484\u001b[0m     \u001b[39mraise\u001b[39;00m \u001b[39mValueError\u001b[39;00m(\n\u001b[0;32m    485\u001b[0m         \u001b[39m\"\u001b[39m\u001b[39mEngine should not be specified when passing \u001b[39m\u001b[39m\"\u001b[39m\n\u001b[0;32m    486\u001b[0m         \u001b[39m\"\u001b[39m\u001b[39man ExcelFile - ExcelFile already has the engine set\u001b[39m\u001b[39m\"\u001b[39m\n\u001b[0;32m    487\u001b[0m     )\n",
      "File \u001b[1;32mc:\\Users\\Chance\\AppData\\Local\\Programs\\Python\\Python311\\Lib\\site-packages\\pandas\\io\\excel\\_base.py:1695\u001b[0m, in \u001b[0;36mExcelFile.__init__\u001b[1;34m(self, path_or_buffer, engine, storage_options)\u001b[0m\n\u001b[0;32m   1692\u001b[0m \u001b[39mself\u001b[39m\u001b[39m.\u001b[39mengine \u001b[39m=\u001b[39m engine\n\u001b[0;32m   1693\u001b[0m \u001b[39mself\u001b[39m\u001b[39m.\u001b[39mstorage_options \u001b[39m=\u001b[39m storage_options\n\u001b[1;32m-> 1695\u001b[0m \u001b[39mself\u001b[39m\u001b[39m.\u001b[39m_reader \u001b[39m=\u001b[39m \u001b[39mself\u001b[39;49m\u001b[39m.\u001b[39;49m_engines[engine](\u001b[39mself\u001b[39;49m\u001b[39m.\u001b[39;49m_io, storage_options\u001b[39m=\u001b[39;49mstorage_options)\n",
      "File \u001b[1;32mc:\\Users\\Chance\\AppData\\Local\\Programs\\Python\\Python311\\Lib\\site-packages\\pandas\\io\\excel\\_openpyxl.py:556\u001b[0m, in \u001b[0;36mOpenpyxlReader.__init__\u001b[1;34m(self, filepath_or_buffer, storage_options)\u001b[0m\n\u001b[0;32m    541\u001b[0m \u001b[39m@doc\u001b[39m(storage_options\u001b[39m=\u001b[39m_shared_docs[\u001b[39m\"\u001b[39m\u001b[39mstorage_options\u001b[39m\u001b[39m\"\u001b[39m])\n\u001b[0;32m    542\u001b[0m \u001b[39mdef\u001b[39;00m \u001b[39m__init__\u001b[39m(\n\u001b[0;32m    543\u001b[0m     \u001b[39mself\u001b[39m,\n\u001b[0;32m    544\u001b[0m     filepath_or_buffer: FilePath \u001b[39m|\u001b[39m ReadBuffer[\u001b[39mbytes\u001b[39m],\n\u001b[0;32m    545\u001b[0m     storage_options: StorageOptions \u001b[39m=\u001b[39m \u001b[39mNone\u001b[39;00m,\n\u001b[0;32m    546\u001b[0m ) \u001b[39m-\u001b[39m\u001b[39m>\u001b[39m \u001b[39mNone\u001b[39;00m:\n\u001b[0;32m    547\u001b[0m \u001b[39m    \u001b[39m\u001b[39m\"\"\"\u001b[39;00m\n\u001b[0;32m    548\u001b[0m \u001b[39m    Reader using openpyxl engine.\u001b[39;00m\n\u001b[0;32m    549\u001b[0m \n\u001b[1;32m   (...)\u001b[0m\n\u001b[0;32m    554\u001b[0m \u001b[39m    {storage_options}\u001b[39;00m\n\u001b[0;32m    555\u001b[0m \u001b[39m    \"\"\"\u001b[39;00m\n\u001b[1;32m--> 556\u001b[0m     import_optional_dependency(\u001b[39m\"\u001b[39;49m\u001b[39mopenpyxl\u001b[39;49m\u001b[39m\"\u001b[39;49m)\n\u001b[0;32m    557\u001b[0m     \u001b[39msuper\u001b[39m()\u001b[39m.\u001b[39m\u001b[39m__init__\u001b[39m(filepath_or_buffer, storage_options\u001b[39m=\u001b[39mstorage_options)\n",
      "File \u001b[1;32mc:\\Users\\Chance\\AppData\\Local\\Programs\\Python\\Python311\\Lib\\site-packages\\pandas\\compat\\_optional.py:144\u001b[0m, in \u001b[0;36mimport_optional_dependency\u001b[1;34m(name, extra, errors, min_version)\u001b[0m\n\u001b[0;32m    142\u001b[0m \u001b[39mexcept\u001b[39;00m \u001b[39mImportError\u001b[39;00m:\n\u001b[0;32m    143\u001b[0m     \u001b[39mif\u001b[39;00m errors \u001b[39m==\u001b[39m \u001b[39m\"\u001b[39m\u001b[39mraise\u001b[39m\u001b[39m\"\u001b[39m:\n\u001b[1;32m--> 144\u001b[0m         \u001b[39mraise\u001b[39;00m \u001b[39mImportError\u001b[39;00m(msg)\n\u001b[0;32m    145\u001b[0m     \u001b[39melse\u001b[39;00m:\n\u001b[0;32m    146\u001b[0m         \u001b[39mreturn\u001b[39;00m \u001b[39mNone\u001b[39;00m\n",
      "\u001b[1;31mImportError\u001b[0m: Missing optional dependency 'openpyxl'.  Use pip or conda to install openpyxl."
     ]
    }
   ],
   "source": [
    "# 輸入為dataframe\n",
    "df_lst = []\n",
    "電子支付使用者人數 = pd.DataFrame()\n",
    "電子支付當月代理收付實質款項交易金額 = pd.DataFrame()\n",
    "電子支付支付款項餘額 = pd.DataFrame()\n",
    "df_lst = [電子支付使用者人數,電子支付當月代理收付實質款項交易金額,電子支付支付款項餘額]\n",
    "df_lst_text = ['電子支付使用者人數','電子支付當月代理收付實質款項交易金額','電子支付支付款項餘額']\n",
    "\n",
    "for i in month_name_lst:\n",
    "\texcel = pd.read_excel(f\"./unzip/{i}.xlsx\")\n",
    "\texcel = excel.drop(excel.columns.tolist()[3:-1], axis=1)\n",
    "\texcel.columns = ['bank','電子支付使用者人數','電子支付當月代理收付實質款項交易金額','電子支付支付款項餘額']\n",
    "\n",
    "\ttwbank = excel.index[excel['bank'] == '臺灣銀行'].tolist()[0]\n",
    "\ttotal = excel.index[excel['bank'] == '總計'].tolist()[0]\n",
    "\texcel = excel.iloc[twbank:total,:]\n",
    "\n",
    "\ttemp_user = pd.DataFrame(excel.iloc[:,1].tolist(), columns = ['2022年1月'], index = excel.iloc[:,0].tolist())\n",
    "\ttemp_money = pd.DataFrame(excel.iloc[:,2].tolist(), columns = ['2022年1月'], index = excel.iloc[:,0].tolist())\n",
    "\ttemp_balance = pd.DataFrame(excel.iloc[:,3].tolist(), columns = ['2022年1月'], index = excel.iloc[:,0].tolist())\n",
    "\n",
    "\tfor j in range(3):\n",
    "\t\tchange_month_format = f'{int(i[:3])+1911}年{int(i[3:5])}月'\n",
    "\t\ttemp_df =  pd.DataFrame(excel.iloc[:,j+1].tolist(), columns = [change_month_format], index = excel.iloc[:,0].tolist())\n",
    "\t\tdf_lst[j] = pd.merge(df_lst[j], temp_df, how='outer',left_index = True, right_index = True)\n",
    "\n",
    "# 刪除檔案\n",
    "\tos.remove(f\"./unzip/{i}.xlsx\")\n",
    "os.rmdir(zip_path)"
   ]
  },
  {
   "cell_type": "code",
   "execution_count": null,
   "metadata": {},
   "outputs": [],
   "source": [
    "#### 編寫為csv\n",
    "##### 計算前20與排名\n",
    "# 將電子支付部分存入所有指標的dictionary\n",
    "\n",
    "for i in df_lst:\n",
    "\tmonth_total = []\n",
    "\ttop_twenty = []\n",
    "\tfor column in i:\n",
    "\t\ttotal = i[column].sum()\n",
    "\t\ttop = i.nlargest(20, column)[column].sum()\n",
    "\t\tmonth_total.append(total)\n",
    "\t\ttop_twenty.append(top)\n",
    "\n",
    "\ti.loc['前20'] = top_twenty\n",
    "\ti.loc['總額'] = month_total\n",
    "\n",
    "# market share & rank\n",
    "for i in df_lst:\n",
    "\t# df_lst[i] = df_lst[i].reset_index().rename(columns={\"index\":\"銀行別\"})\n",
    "\tcolumns = i.columns.tolist()\n",
    "\tfor j in range(len(columns)):\n",
    "\t\ti[columns[j]+\"市占率\"] = i[columns[j]]/i[columns[j]].sum()\n",
    "\t\ti[columns[j]+\"排名\"] = i[columns[j]].rank(ascending=False)\n",
    "\t\ti[columns[j]+\"市占率\"] = i[columns[j]+\"市占率\"].map(lambda x: '{:.2%}'.format(x))\n",
    "\n",
    "# 將電子支付部分存入所有指標的dictionary\n",
    "for i in range(len(df_lst)):\n",
    "    ratio_dict[df_lst_text[i]] = df_lst[i]"
   ]
  },
  {
   "attachments": {},
   "cell_type": "markdown",
   "metadata": {},
   "source": [
    "#### 這裡開始需要修改"
   ]
  },
  {
   "attachments": {},
   "cell_type": "markdown",
   "metadata": {},
   "source": [
    "所有指標都存在ratio_dict裡面, key=指標 , value=對應的dataframe"
   ]
  },
  {
   "cell_type": "code",
   "execution_count": null,
   "metadata": {},
   "outputs": [
    {
     "name": "stderr",
     "output_type": "stream",
     "text": [
      "c:\\Users\\Ng Kay Jun\\AppData\\Local\\Programs\\Python\\Python39\\lib\\site-packages\\pandas\\core\\indexing.py:723: SettingWithCopyWarning: \n",
      "A value is trying to be set on a copy of a slice from a DataFrame\n",
      "\n",
      "See the caveats in the documentation: https://pandas.pydata.org/pandas-docs/stable/user_guide/indexing.html#returning-a-view-versus-a-copy\n",
      "  iloc._setitem_with_indexer(indexer, value, self.name)\n",
      "c:\\Users\\Ng Kay Jun\\AppData\\Local\\Programs\\Python\\Python39\\lib\\site-packages\\pandas\\core\\indexing.py:1773: SettingWithCopyWarning: \n",
      "A value is trying to be set on a copy of a slice from a DataFrame.\n",
      "Try using .loc[row_indexer,col_indexer] = value instead\n",
      "\n",
      "See the caveats in the documentation: https://pandas.pydata.org/pandas-docs/stable/user_guide/indexing.html#returning-a-view-versus-a-copy\n",
      "  self._setitem_single_column(ilocs[0], value, pi)\n",
      "C:\\Users\\Ng Kay Jun\\AppData\\Local\\Temp\\ipykernel_24440\\2567795699.py:47: SettingWithCopyWarning: \n",
      "A value is trying to be set on a copy of a slice from a DataFrame.\n",
      "Try using .loc[row_indexer,col_indexer] = value instead\n",
      "\n",
      "See the caveats in the documentation: https://pandas.pydata.org/pandas-docs/stable/user_guide/indexing.html#returning-a-view-versus-a-copy\n",
      "  df['上月增量'] = df[target_month[0]] - df[target_month[1]]\n",
      "C:\\Users\\Ng Kay Jun\\AppData\\Local\\Temp\\ipykernel_24440\\2567795699.py:48: SettingWithCopyWarning: \n",
      "A value is trying to be set on a copy of a slice from a DataFrame.\n",
      "Try using .loc[row_indexer,col_indexer] = value instead\n",
      "\n",
      "See the caveats in the documentation: https://pandas.pydata.org/pandas-docs/stable/user_guide/indexing.html#returning-a-view-versus-a-copy\n",
      "  df['去年年底增量'] = df[target_month[0]] - df[target_month[2]]\n",
      "C:\\Users\\Ng Kay Jun\\AppData\\Local\\Temp\\ipykernel_24440\\2567795699.py:49: SettingWithCopyWarning: \n",
      "A value is trying to be set on a copy of a slice from a DataFrame.\n",
      "Try using .loc[row_indexer,col_indexer] = value instead\n",
      "\n",
      "See the caveats in the documentation: https://pandas.pydata.org/pandas-docs/stable/user_guide/indexing.html#returning-a-view-versus-a-copy\n",
      "  df['去年同期增量'] = df[target_month[0]] - df[target_month[3]]\n"
     ]
    }
   ],
   "source": [
    "###### growth rate\n",
    "temp = 0\n",
    "for table in df_lst:\n",
    "\t## 建立欲輸出的df\n",
    "\n",
    "\tdf = pd.DataFrame()\n",
    "\n",
    "\ttarget_month = target_months(target[0],target[1])\n",
    "\tdf = table[target_month] \n",
    "\n",
    "\t# 若有重複月份\n",
    "\tfor i in range(0,4):\n",
    "\t\tfor j in range(i+1,4):\n",
    "\t\t\tif target_month[i] == target_month[j]:\n",
    "\t\t\t\ttarget_month[j] = f'{target_month[j]}_1'\n",
    "\tdf.columns = target_month\n",
    "\n",
    "\t# 計算前20與總額\n",
    "\tmonth_total = []\n",
    "\ttop_twenty = []\n",
    "\tfor column in df:\n",
    "\t\ttotal = df[column].sum()\n",
    "\t\ttop = df.nlargest(20, column)[column].sum()\n",
    "\t\tmonth_total.append(total)\n",
    "\t\ttop_twenty.append(top)\n",
    "\n",
    "\tdf.loc['前20'] = top_twenty\n",
    "\tdf.loc['總額'] = month_total\n",
    "\n",
    "\t# 計算市占率&排名\n",
    "\tfor column in range(0, df.shape[1] *3, 3):\n",
    "\t\tmarket_share = []\n",
    "\t\tfor row in range(df.shape[0]):\n",
    "\t\t\tshare = df.iloc[row, column] / df.iloc[df.shape[0] - 1, column]\n",
    "\t\t\tmarket_share.append(share)\n",
    "\n",
    "\t\tranking = df[target_month[column // 3]].iloc[:-2].rank(ascending=False)\n",
    "\t\n",
    "\t\tdf.insert(column + 1 , column=f'{target_month[column // 3]}市占率', value = market_share)\n",
    "\t\tdf.iloc[:,column + 1 ] = df.iloc[:,column + 1 ].map(lambda x: '{:.2%}'.format(x))\n",
    "\t\tdf.insert(column + 2, column=f'{target_month[column // 3]}排名', value = ranking)\n",
    "\n",
    "\t# 與前__比較\n",
    "\tnew_target = ['上月增量', '去年年底增量', '去年同期增量']\n",
    "\t[target_month.append(i) for i in new_target]\n",
    "\n",
    "\tdf['上月增量'] = df[target_month[0]] - df[target_month[1]]\n",
    "\tdf['去年年底增量'] = df[target_month[0]] - df[target_month[2]]\n",
    "\tdf['去年同期增量'] = df[target_month[0]] - df[target_month[3]]\n",
    "\n",
    "\tfor column in range(12, 21, 3):\n",
    "\t\tranking = df[target_month[column // 3]].iloc[:-2].rank(ascending=False)\n",
    "\t\trate = df[target_month[column // 3]]/df[target_month[0]]\n",
    "\t\tdf.insert(column + 1 , column=f'{target_month[column // 3]}成長率', value = rate)\n",
    "\t\tdf.iloc[:,column + 1 ] = df.iloc[:,column + 1 ].map(lambda x: '{:.2%}'.format(x))\n",
    "\t\tdf.insert(column + 2, column=f'{target_month[column // 3]}排名', value = ranking)\n",
    "\n",
    "\t# 寫入csv(1): dataframe\n",
    "\tout = df.sort_values(by = target_month[0], ascending = False)\n",
    "\tout = out.head(22)\n",
    "\tout = out.sort_values(by = [f'{target_month[0]}排名', f'{target_month[0]}市占率'])\n",
    "\n",
    "\t# print(df)\n",
    "\tcol = out.columns.values.tolist()\n",
    "\tcol.insert(0, '')\n",
    "\tbank_name = out.index.values.tolist()\n",
    "\n",
    "\tw = df_lst_text[temp]\n",
    "\n",
    "\tfile_path = os.path.join(out_path, f'{w}_{target[0]}年{target[1]}月.csv')\n",
    "\n",
    "\twith open(file_path, 'w') as f:\n",
    "\t\twriter = csv.writer(f)\n",
    "\t\twriter.writerow(col)\n",
    "\t\tfor i in range(out.shape[0]):\n",
    "\t\t\tinform = out.iloc[i].tolist()\n",
    "\t\t\tinform.insert(0,bank_name[i])\n",
    "\t\t\twriter.writerow(inform)\n",
    "\t\tf.close()\n",
    "\n",
    "\t# 寫入csv(2): 玉山\n",
    "\tmain_file = os.path.join(out_path, \"玉山銀行彙整.csv\")\n",
    "\t# col = out.columns.values.tolist()\n",
    "\t# col.insert(0, '')\n",
    "\tesun = out.loc['玉山商業銀行'].tolist()\n",
    "\tesun.insert(0,w)\n",
    "\n",
    "\tif os.path.isfile(main_file):\n",
    "\t\twith open(main_file, 'a') as f:\n",
    "\t\t\twriter = csv.writer(f)\n",
    "\t\t\twriter.writerow(esun)\n",
    "\t\t\tf.close()\n",
    "\n",
    "\telse:\n",
    "\t\twith open(main_file, 'a') as f:\n",
    "\t\t\twriter = csv.writer(f)\n",
    "\t\t\twriter.writerow(col)\n",
    "\t\t\twriter.writerow(esun)\n",
    "\t\t\tf.close()\n",
    "\n",
    "\ttemp += 1"
   ]
  },
  {
   "cell_type": "code",
   "execution_count": null,
   "metadata": {},
   "outputs": [],
   "source": []
  },
  {
   "attachments": {},
   "cell_type": "markdown",
   "metadata": {},
   "source": [
    "*** 下面可以先忽略 ***"
   ]
  },
  {
   "attachments": {},
   "cell_type": "markdown",
   "metadata": {},
   "source": [
    "#### 統計彙整"
   ]
  },
  {
   "attachments": {},
   "cell_type": "markdown",
   "metadata": {},
   "source": [
    "整理欄位"
   ]
  },
  {
   "cell_type": "code",
   "execution_count": null,
   "metadata": {},
   "outputs": [],
   "source": [
    "datetime = datetime.strptime(input_date, '%Y/%m/%d')\n",
    "previous_date = datetime - relativedelta(months=1)\n",
    "compare_list = [\"玉山\",\n",
    "                input_year+\"年\"+input_month+\"月\", input_year+\"年\"+input_month+\"月市占率\", input_year+\"年\"+input_month+\"月排名\",\n",
    "                str(previous_date.year)+\"年\"+str(previous_date.month)+\"月\", str(previous_date.year)+\"年\"+str(previous_date.month)+\"月市占率\", str(previous_date.year)+\"年\"+str(previous_date.month)+\"月排名\",\n",
    "                previous_year+\"年\"+last_month+\"月\", previous_year+\"年\"+last_month+\"月市占率\", previous_year+\"年\"+last_month+\"月排名\",\n",
    "                previous_year+\"年\"+input_month+\"月\", previous_year+\"年\"+input_month+\"月市占率\", previous_year+\"年\"+input_month+\"月排名\"]"
   ]
  },
  {
   "attachments": {},
   "cell_type": "markdown",
   "metadata": {},
   "source": [
    "建立DataFrame"
   ]
  },
  {
   "cell_type": "code",
   "execution_count": null,
   "metadata": {},
   "outputs": [],
   "source": [
    "table = pd.DataFrame(columns=compare_list)\n",
    "index = 0\n",
    "for i,j in ratio_dict.items():\n",
    "    append_row = [i]\n",
    "    for k in compare_list[1:]:\n",
    "        value = j[j[\"銀行別\"] == \"玉山商業銀行\"].loc[:, k]\n",
    "        append_row.append(value.iloc[0])\n",
    "    table.loc[index]=append_row\n",
    "    index += 1"
   ]
  },
  {
   "cell_type": "code",
   "execution_count": null,
   "metadata": {},
   "outputs": [],
   "source": [
    "table"
   ]
  }
 ],
 "metadata": {
  "kernelspec": {
   "display_name": "Python 3",
   "language": "python",
   "name": "python3"
  },
  "language_info": {
   "codemirror_mode": {
    "name": "ipython",
    "version": 3
   },
   "file_extension": ".py",
   "mimetype": "text/x-python",
   "name": "python",
   "nbconvert_exporter": "python",
   "pygments_lexer": "ipython3",
   "version": "3.11.2"
  },
  "orig_nbformat": 4
 },
 "nbformat": 4,
 "nbformat_minor": 2
}
