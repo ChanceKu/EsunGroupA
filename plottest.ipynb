{
 "cells": [
  {
   "cell_type": "code",
   "execution_count": 2,
   "metadata": {},
   "outputs": [],
   "source": [
    "import csv\n",
    "import pandas as pd\n",
    "from datetime import datetime\n",
    "import os\n",
    "import subprocess\n",
    "import matplotlib.pyplot as plt\n"
   ]
  },
  {
   "cell_type": "code",
   "execution_count": 32,
   "metadata": {},
   "outputs": [
    {
     "name": "stdout",
     "output_type": "stream",
     "text": [
      "['ATM裝設臺數.csv', '企業放款_放款總額.csv', '信用卡逾期帳款比率.csv', '個人放款_放款總額.csv', '備抵呆帳覆蓋率.csv', '利息收入.csv', '利息淨收益_總收入.csv', '存放比率.csv', '存款與權益比率.csv', '手續費收入.csv', '普通股權益比率(季).csv', '權益報酬率.csv', '活卡率.csv', '流通金融卡數.csv', '負債權益比.csv', '資本適足率(季).csv', '資產報酬率.csv', '逾期放款.csv', '逾期放款比率.csv', '金融卡交易次數.csv', '電子支付使用者人數.csv', '電子支付支付款項餘額.csv', '電子支付當月代理收付實質款項交易金額.csv']\n",
      "2017年1月\n",
      "2017年1月\n",
      "2017年1月\n",
      "2017年1月\n",
      "2018年1月\n",
      "2017年1月\n",
      "2017年1月\n",
      "2017年1月\n",
      "2017年1月\n",
      "2017年1月\n",
      "2022年Q4\n",
      "2017年1月\n",
      "2017年1月\n",
      "2017年1月\n",
      "2017年1月\n",
      "2022年Q4\n",
      "2017年1月\n",
      "2018年1月\n",
      "2018年1月\n",
      "2017年1月\n",
      "2018年4月\n",
      "2018年4月\n",
      "2018年4月\n"
     ]
    }
   ],
   "source": [
    "dir_list = os.listdir(\".//csv\")\n",
    "print(dir_list)\n",
    "for i in dir_list:\n",
    "    df = pd.read_csv(\".//csv//\"+i, encoding=\"utf-8\")\n",
    "    print(df.iloc[0,0])"
   ]
  },
  {
   "cell_type": "code",
   "execution_count": 31,
   "metadata": {},
   "outputs": [
    {
     "name": "stdout",
     "output_type": "stream",
     "text": [
      "0      2017年1月\n",
      "1      2017年2月\n",
      "2      2017年3月\n",
      "3      2017年4月\n",
      "4      2017年5月\n",
      "        ...   \n",
      "67     2022年8月\n",
      "68     2022年9月\n",
      "69    2022年10月\n",
      "70    2022年11月\n",
      "71    2022年12月\n",
      "Name: Unnamed: 0, Length: 72, dtype: object\n"
     ]
    }
   ],
   "source": [
    "df = pd.read_csv(\".//csv//手續費收入.csv\", encoding=\"utf-8\")\n",
    "share = df[\"玉山商業銀行-市佔率\"] \n",
    "\n",
    "month = df.iloc[:,0]\n",
    "print(month)"
   ]
  },
  {
   "cell_type": "code",
   "execution_count": 28,
   "metadata": {},
   "outputs": [
    {
     "data": {
      "image/png": "[encoded data removed]",
      "text/plain": [
       "<Figure size 640x480 with 1 Axes>"
      ]
     },
     "metadata": {},
     "output_type": "display_data"
    }
   ],
   "source": [
    "plt.rcParams['font.sans-serif'] = ['Taipei Sans TC Beta']\n",
    "\n",
    "df = pd.read_csv(r\"D:\\Python\\EsunGroupA\\csv\\手續費收入.csv\", encoding=\"utf-8\")\n",
    "\n",
    "banks = [\"中國信託商業銀行\",\"台北富邦商業銀行\",\"國泰世華商業銀行\",\"合作金庫銀行\",\"兆豐國際商業銀行\",\"第一商業銀行\",\"臺灣銀行\",\"玉山商業銀行\"]\n",
    "\n",
    "data_list = []           \n",
    "\n",
    "#取得資料\n",
    "for i in range(len(banks)):\n",
    "    data_list[i] = df[banks[i]]\n",
    "\n",
    "# list1 = df[\"中國信託商業銀行\"] # market share\n",
    "# list2 = df[\"台北富邦商業銀行\"]   # market ranking\n",
    "# list3 = df[\"國泰世華商業銀行\"]\n",
    "# list4 = df[\"合作金庫銀行\"]\n",
    "# list5 = df[\"兆豐國際商業銀行\"]\n",
    "# list6 = df[\"第一商業銀行\"]\n",
    "# list7 = df[\"臺灣銀行\"]\n",
    "# list8 = df[\"玉山商業銀行\"]\n",
    "\n",
    "#取得月份\n",
    "month = df.iloc[:,0]\n",
    "\n",
    "# 把月份格式更改, 例:2022年01月 -> 2022/01\n",
    "new_month = []\n",
    "for m in month:\n",
    "    dt = datetime.strptime(m, '%Y年%m月')\n",
    "    new_month.append(dt.strftime('%Y/%m'))\n",
    "\n",
    "# Create the plot\n",
    "fig, ax = plt.subplots()\n",
    "\n",
    "fig, ax = plt.subplots(figsize=(16, 9))\n",
    "\n",
    "# Plot the first dataset (share) on the left y-axis\n",
    "ax.plot(list1, color='red', label=\"中國信託商業銀行\")\n",
    "ax.plot(list2, color='blue', label=\"台北富邦商業銀行\")\n",
    "ax.plot(list3, color='orange', label=\"國泰世華商業銀行\")\n",
    "ax.plot(list4, color='yellow', label=\"合作金庫銀行\")\n",
    "ax.plot(list5, color='green', label=\"兆豐國際商業銀行\")\n",
    "ax.plot(list6, color='black', label=\"第一商業銀行\")\n",
    "ax.plot(list7, color='purple', label=\"臺灣銀行\")\n",
    "ax.plot(list8, color='pink', label=\"玉山商業銀行\")\n",
    "\n",
    "# Set the x-tick positions and labels\n",
    "plt.xticks(range(0, len(month), 3), [new_month[i] for i in range(0, len(new_month), 3)])\n",
    "# xticks = range(len(new_month))\n",
    "# plt.xticks(xticks, new_month)\n",
    "plt.setp(ax.xaxis.get_majorticklabels(), rotation=45)\n",
    "\n",
    "# # Add data labels to the plot\n",
    "# for x, y1, y2 in zip(xticks, share, rank):\n",
    "#     ax1.text(x, y1, f'{y1:.2f}', ha='center', va='bottom')\n",
    "#     ax2.text(x, y2, f'{y2:.0f}', ha='center', va='bottom')\n",
    "\n",
    "# 幫圖加上標題\n",
    "plt.title(\"手續費收入\")     \n",
    "\n",
    "# Add a legend to the plot\n",
    "ax.legend()\n",
    "\n",
    "# create folder if it does not exist\n",
    "directory = \".//graph\"\n",
    "\n",
    "if not os.path.exists(directory):\n",
    "    os.makedirs(directory)\n",
    "\n",
    "# Save the plot\n",
    "name = \"手續費收入\" + '.png'\n",
    "plt.savefig(os.path.join(\".//graph//\", name))\n",
    "plt.close()"
   ]
  }
 ],
 "metadata": {
  "kernelspec": {
   "display_name": "Python 3",
   "language": "python",
   "name": "python3"
  },
  "language_info": {
   "codemirror_mode": {
    "name": "ipython",
    "version": 3
   },
   "file_extension": ".py",
   "mimetype": "text/x-python",
   "name": "python",
   "nbconvert_exporter": "python",
   "pygments_lexer": "ipython3",
   "version": "3.11.2"
  },
  "orig_nbformat": 4
 },
 "nbformat": 4,
 "nbformat_minor": 2
}
